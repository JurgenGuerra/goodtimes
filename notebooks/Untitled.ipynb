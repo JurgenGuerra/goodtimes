{
 "cells": [
  {
   "cell_type": "code",
   "execution_count": null,
   "id": "8eace027-1bbd-40dd-8434-2f0890439647",
   "metadata": {},
   "outputs": [],
   "source": [
    "import requests\n",
    "import json"
   ]
  },
  {
   "cell_type": "code",
   "execution_count": null,
   "id": "9d5cd605-1764-41e8-a1cc-1e647f6e5d1c",
   "metadata": {},
   "outputs": [],
   "source": [
    "headers = {\n",
    "    'x-client-secret': 'sk_test.Sq6KPfJa.BQCpOi9LBvBqYMCsTRm6AyUjNxkHDLlF\t',\n",
    "    'x-project-id': '08e3f175-2da7-449c-b076-9adf9b2beddc',\n",
    "}\n",
    "\n",
    "json_data = {\n",
    "    'metadata': {\n",
    "        'name': 'Oveja peluda',\n",
    "        'image': 'https://pbs.twimg.com/media/E3Gci_TWQAAP816.jpg',\n",
    "        'description': 'Probando el api',\n",
    "    },\n",
    "    'recipient': 'email:frankmosheh@gmail.com:sol',\n",
    "}\n",
    "\n",
    "response = requests.post('https://staging.crossmint.io/api/2022-06-09/collections/default/nfts', headers=headers, json=json_data)"
   ]
  },
  {
   "cell_type": "code",
   "execution_count": null,
   "id": "d7a7b75a-3ab6-459c-b50e-64e5bf673203",
   "metadata": {},
   "outputs": [
    {
     "data": {
      "text/plain": [
       "{'error': True, 'message': 'Collection not found'}"
      ]
     },
     "execution_count": 60,
     "metadata": {},
     "output_type": "execute_result"
    }
   ],
   "source": [
    "response.json()"
   ]
  },
  {
   "cell_type": "code",
   "execution_count": null,
   "id": "8287ea99-2462-48f4-b68f-0a4ebe03bfbb",
   "metadata": {},
   "outputs": [],
   "source": [
    "headers = {\n",
    "    'x-client-secret': 'sk_test.Sq6KPfJa.BQCpOi9LBvBqYMCsTRm6AyUjNxkHDLlF\t',\n",
    "    'x-project-id': '08e3f175-2da7-449c-b076-9adf9b2beddc',\n",
    "}\n",
    "response = requests.get('https://staging.crossmint.io/api/2022-06-09/collections/default/nfts/0966e255-db8c-466d-bea1-744fad2880cf', headers=headers, timeout=5)"
   ]
  },
  {
   "cell_type": "code",
   "execution_count": null,
   "id": "3004b528-e3c8-4df3-bfb4-64821b04650e",
   "metadata": {},
   "outputs": [
    {
     "data": {
      "text/plain": [
       "{'error': True, 'message': 'NFT not found'}"
      ]
     },
     "execution_count": 57,
     "metadata": {},
     "output_type": "execute_result"
    }
   ],
   "source": [
    "response.json()"
   ]
  },
  {
   "cell_type": "code",
   "execution_count": null,
   "id": "5c72cee8-0456-4421-bbb5-9db424f3bd34",
   "metadata": {},
   "outputs": [],
   "source": []
  },
  {
   "cell_type": "code",
   "execution_count": 108,
   "id": "f7bfbc39-1567-4454-a12a-a9c94abf4883",
   "metadata": {},
   "outputs": [
    {
     "name": "stdout",
     "output_type": "stream",
     "text": [
      "{\"chain\":\"polygon\",\"publicKey\":\"0xda492A664e0FDe5f634Af0d451f9688903C9AC91\"}\n"
     ]
    }
   ],
   "source": [
    "import requests\n",
    "\n",
    "url = \"https://staging.crossmint.io/api/v1-alpha1/wallets\"\n",
    "\n",
    "payload = {\n",
    "    \"chain\": \"polygon\",\n",
    "    \"userId\": \"300\"\n",
    "}\n",
    "headers = {\n",
    "    \"content-type\": \"application/json\",\n",
    "    \"x-client-secret\": \"sk_test.Sq6KPfJa.BQCpOi9LBvBqYMCsTRm6AyUjNxkHDLlF\",\n",
    "    \"x-project-id\": \"08e3f175-2da7-449c-b076-9adf9b2beddc\"\n",
    "}\n",
    "\n",
    "response = requests.post(url, json=payload, headers=headers)\n",
    "\n",
    "print(response.text)"
   ]
  },
  {
   "cell_type": "code",
   "execution_count": 109,
   "id": "4189d3d3-56ad-4eb1-9e32-117b256000c0",
   "metadata": {},
   "outputs": [
    {
     "data": {
      "text/plain": [
       "{'chain': 'polygon', 'publicKey': '0xda492A664e0FDe5f634Af0d451f9688903C9AC91'}"
      ]
     },
     "execution_count": 109,
     "metadata": {},
     "output_type": "execute_result"
    }
   ],
   "source": [
    "response.json()"
   ]
  },
  {
   "cell_type": "code",
   "execution_count": null,
   "id": "8017289d-7af5-4365-abb0-6c7a032ec5bd",
   "metadata": {},
   "outputs": [],
   "source": []
  },
  {
   "cell_type": "code",
   "execution_count": 67,
   "id": "f8096e0f-65fd-4759-8928-0fd3ccbea5b1",
   "metadata": {},
   "outputs": [],
   "source": [
    "import requests\n",
    "\n",
    "headers = {\n",
    "    'x-api-key': 'ddcd456f-1de5-46ba-94ab-e1825e55c251',\n",
    "    'Content-Type': 'multipart/form-data',\n",
    "}\n",
    "\n",
    "files = {\n",
    "    'file': open('bbva.jpg', 'rb'),\n",
    "}\n",
    "\n",
    "response = requests.post('http://api-us-west1.tatum.io/v3/ipfs', headers=headers, files=files)"
   ]
  },
  {
   "cell_type": "code",
   "execution_count": 68,
   "id": "453c6d0b-d2f0-43e7-95f6-06e48172c784",
   "metadata": {},
   "outputs": [
    {
     "data": {
      "text/plain": [
       "{'statusCode': 404, 'message': 'Cannot GET /v3/ipfs'}"
      ]
     },
     "execution_count": 68,
     "metadata": {},
     "output_type": "execute_result"
    }
   ],
   "source": [
    "response.json()"
   ]
  },
  {
   "cell_type": "code",
   "execution_count": null,
   "id": "0ea1dab3-53f4-4e65-b7e6-2b3ad46f464a",
   "metadata": {},
   "outputs": [],
   "source": []
  },
  {
   "cell_type": "code",
   "execution_count": 84,
   "id": "04ba139a-7655-4396-b9e1-b7982030456f",
   "metadata": {},
   "outputs": [],
   "source": [
    "import requests\n",
    "\n",
    "headers = {\n",
    "    'x-api-key': 'ddcd456f-1de5-46ba-94ab-e1825e55c251',\n",
    "    # Already added when you pass json= but not when you pass data=\n",
    "    # 'Content-Type': 'application/json',\n",
    "}\n",
    "\n",
    "json_data = {\n",
    "    'chain': 'BSC',\n",
    "    'to': '0x033ef5BEb70381CFb1217d3688fE4476C81572Fa',\n",
    "    'url': 'https://cloudflare-ipfs.com/ipfs/QmNWEEuxdugy7xxbmViU42TSr9SCkD2AyNgxGp67FrkZ9k/pancakesquad6695.json/',\n",
    "}\n",
    "\n",
    "response = requests.post('https://api-us-west1.tatum.io/v3/nft/mint', headers=headers, json=json_data)\n",
    "\n",
    "# Note: json_data will not be serialized by requests\n",
    "# exactly as it was in the original request.\n",
    "#data = '{ \"chain\": \"MATIC\", \"to\": \"0x033ef5BEb70381CFb1217d3688fE4476C81572Fa\", \"url\": \"https://uiwqfrh4d3socctbtb4mg2mzj2hlialq5obkeeo4zdk6uu6b7lpq.arweave.net/oi0CxPwe5OEKYZh4w2mZTo60AXDrgqIR3MjV6lPB-t8\" }'\n",
    "#response = requests.post('https://api-us-west1.tatum.io/v3/nft/mint', headers=headers, data=data)"
   ]
  },
  {
   "cell_type": "code",
   "execution_count": 70,
   "id": "69af5165-3835-4e23-bf54-3e0e37937500",
   "metadata": {},
   "outputs": [
    {
     "data": {
      "text/plain": [
       "{'txId': '0x004bf905be476adca95514d1a0e17ec6c8cf78d6112b8055494fe55c5c0ee952'}"
      ]
     },
     "execution_count": 70,
     "metadata": {},
     "output_type": "execute_result"
    }
   ],
   "source": [
    "response.json()"
   ]
  },
  {
   "cell_type": "code",
   "execution_count": 72,
   "id": "730fed54-3265-4f98-a124-452a0b763d0f",
   "metadata": {},
   "outputs": [
    {
     "data": {
      "text/plain": [
       "{'txId': '0xe4aa4a5fa2ea01471e86ba4be87fd031c047fe05949229074c87ee680ac11ac4'}"
      ]
     },
     "execution_count": 72,
     "metadata": {},
     "output_type": "execute_result"
    }
   ],
   "source": [
    "response.json()"
   ]
  },
  {
   "cell_type": "code",
   "execution_count": 74,
   "id": "58b27e70-3001-4259-b3f8-fa3419a9a602",
   "metadata": {},
   "outputs": [
    {
     "data": {
      "text/plain": [
       "{'txId': '0x111c86d7d4939456e6082bac593678a561269143aa9d6a5b5d71df093d8ffc33'}"
      ]
     },
     "execution_count": 74,
     "metadata": {},
     "output_type": "execute_result"
    }
   ],
   "source": [
    "response.json()"
   ]
  },
  {
   "cell_type": "code",
   "execution_count": 76,
   "id": "8e9507ee-3927-4dd9-8cd0-fbd95ae88125",
   "metadata": {},
   "outputs": [
    {
     "data": {
      "text/plain": [
       "{'txId': '0x1f3eb969cf1eb81b1df4aa28ee952163e4985baa6321667f5fbaf6df995b952c'}"
      ]
     },
     "execution_count": 76,
     "metadata": {},
     "output_type": "execute_result"
    }
   ],
   "source": [
    "response.json()"
   ]
  },
  {
   "cell_type": "code",
   "execution_count": 79,
   "id": "bb68077b-85ad-4b21-8445-848b6f8ff6a4",
   "metadata": {},
   "outputs": [
    {
     "data": {
      "text/plain": [
       "{'statusCode': 403,\n",
       " 'errorCode': 'one.broadcast.failed',\n",
       " 'message': 'Unable to broadcast transaction. transaction underpriced',\n",
       " 'cause': 'transaction underpriced [-32000]'}"
      ]
     },
     "execution_count": 79,
     "metadata": {},
     "output_type": "execute_result"
    }
   ],
   "source": [
    "response.json()"
   ]
  },
  {
   "cell_type": "code",
   "execution_count": 81,
   "id": "4d8a204b-b6e5-4095-949a-30e7b59b8e7f",
   "metadata": {},
   "outputs": [
    {
     "data": {
      "text/plain": [
       "{'txId': '0x58a90a21e541ea5716acb0bc14cce3c93b8c4f8bc59127e29744e958704d8da8'}"
      ]
     },
     "execution_count": 81,
     "metadata": {},
     "output_type": "execute_result"
    }
   ],
   "source": [
    "response.json()"
   ]
  },
  {
   "cell_type": "code",
   "execution_count": 83,
   "id": "aa11df87-5abe-4d4a-938a-e38c75abb34a",
   "metadata": {},
   "outputs": [
    {
     "data": {
      "text/plain": [
       "{'txId': '0xc48d8d52f1a6266f3ed09e16f604e718be9b6e339894190d981ce1603959f0cf'}"
      ]
     },
     "execution_count": 83,
     "metadata": {},
     "output_type": "execute_result"
    }
   ],
   "source": [
    "response.json()"
   ]
  },
  {
   "cell_type": "code",
   "execution_count": 85,
   "id": "a720f314-d1e9-4e3d-a715-f3e189e35d96",
   "metadata": {},
   "outputs": [
    {
     "data": {
      "text/plain": [
       "{'txId': '0x55ac8d4ed1195f9b67909074df727a1919ef3e3707fb73163c40d47679cfb5af'}"
      ]
     },
     "execution_count": 85,
     "metadata": {},
     "output_type": "execute_result"
    }
   ],
   "source": [
    "response.json()"
   ]
  },
  {
   "cell_type": "code",
   "execution_count": null,
   "id": "22ca9949-9a0a-48be-9e9d-5d76448b044f",
   "metadata": {},
   "outputs": [],
   "source": []
  },
  {
   "cell_type": "code",
   "execution_count": null,
   "id": "38a87cef-913d-44d4-a8e5-622c37bdcfc3",
   "metadata": {},
   "outputs": [],
   "source": []
  },
  {
   "cell_type": "code",
   "execution_count": 143,
   "id": "2182e49d-8964-40a0-bb4e-21bd8250ad8a",
   "metadata": {},
   "outputs": [],
   "source": [
    "import requests\n",
    "\n",
    "payload = {\n",
    "    \"chain\": \"goerli\",\n",
    "    \"name\": \"NFT_Name\",\n",
    "    \"description\": \"NFT_Description\",\n",
    "    \"mint_to_address\": \"0x033ef5BEb70381CFb1217d3688fE4476C81572Fa\",\n",
    "    \"file_url\": \"https://res.cloudinary.com/climatempo/image/upload/v1666503586/goes/Artboard_20emojis.png\"\n",
    "}\n",
    "\n",
    "response = requests.post(\n",
    "    \"https://api.nftport.xyz/v0/mints/easy/urls\",\n",
    "    headers={\"Authorization\": \"3f97b294-dad0-4b00-b7c3-4d9623b209d1\"},\n",
    "    json=payload    \n",
    ")"
   ]
  },
  {
   "cell_type": "code",
   "execution_count": 144,
   "id": "d004b092-3950-4a72-b104-de87361ec982",
   "metadata": {},
   "outputs": [
    {
     "data": {
      "text/plain": [
       "{'response': 'OK',\n",
       " 'chain': 'goerli',\n",
       " 'contract_address': '0xb91876637e407b75fc5da1a81114db68f4851932',\n",
       " 'transaction_hash': '0x723451f02223996ba50a2ed8106e9dee4926e9927f33cfed2cc552a74bbcea4f',\n",
       " 'transaction_external_url': 'https://goerli.etherscan.io/tx/0x723451f02223996ba50a2ed8106e9dee4926e9927f33cfed2cc552a74bbcea4f',\n",
       " 'mint_to_address': '0x033ef5beb70381cfb1217d3688fe4476c81572fa',\n",
       " 'name': 'NFT_Name',\n",
       " 'description': 'NFT_Description'}"
      ]
     },
     "execution_count": 144,
     "metadata": {},
     "output_type": "execute_result"
    }
   ],
   "source": [
    "response.json()"
   ]
  },
  {
   "cell_type": "code",
   "execution_count": 122,
   "id": "3876294b-df27-4716-a97a-caa2c79dae70",
   "metadata": {},
   "outputs": [],
   "source": [
    "import requests\n",
    "\n",
    "file = open(\"bbva.jpg\", \"rb\")\n",
    "\n",
    "query_params = {\n",
    "    \"chain\": \"goerli\",\n",
    "    \"name\": \"NFT_Name\",\n",
    "    \"description\": \"NFT_Description\",\n",
    "    \"mint_to_address\": \"0x033ef5BEb70381CFb1217d3688fE4476C81572Fa\"\n",
    "}\n",
    "\n",
    "response = requests.post(\n",
    "    \"https://api.nftport.xyz/v0/mints/easy/files\",\n",
    "    headers={\"Authorization\": \"3f97b294-dad0-4b00-b7c3-4d9623b209d1\"},\n",
    "    params=query_params,\n",
    "    files={\"file\": file}\n",
    ")"
   ]
  },
  {
   "cell_type": "code",
   "execution_count": 87,
   "id": "3e297b25-af04-4708-adb0-24c29392a427",
   "metadata": {},
   "outputs": [
    {
     "data": {
      "text/plain": [
       "{'response': 'OK',\n",
       " 'chain': 'polygon',\n",
       " 'contract_address': '0x55a8dbe6f191b370885d01e30cb7d36d0fa99f16',\n",
       " 'transaction_hash': '0xd6b72e445a88ff255f1d90f4192c3c3d4d8bb9183067a912e9867d6bef4a5778',\n",
       " 'transaction_external_url': 'https://polygonscan.com/tx/0xd6b72e445a88ff255f1d90f4192c3c3d4d8bb9183067a912e9867d6bef4a5778',\n",
       " 'mint_to_address': '0x033ef5BEb70381CFb1217d3688fE4476C81572Fa',\n",
       " 'name': 'NFT_Name',\n",
       " 'description': 'NFT_Description'}"
      ]
     },
     "execution_count": 87,
     "metadata": {},
     "output_type": "execute_result"
    }
   ],
   "source": [
    "response.json()"
   ]
  },
  {
   "cell_type": "code",
   "execution_count": 123,
   "id": "21fd6c04-12ce-423f-835f-33bcae4cf81b",
   "metadata": {},
   "outputs": [
    {
     "data": {
      "text/plain": [
       "{'response': 'OK',\n",
       " 'chain': 'goerli',\n",
       " 'contract_address': '0xb91876637e407b75fc5da1a81114db68f4851932',\n",
       " 'transaction_hash': '0xd51df0c09c6cc3fd7d8b8fb1fd0ca2a05bce86fd2fd4c1c5854aee7f5fed530d',\n",
       " 'transaction_external_url': 'https://goerli.etherscan.io/tx/0xd51df0c09c6cc3fd7d8b8fb1fd0ca2a05bce86fd2fd4c1c5854aee7f5fed530d',\n",
       " 'mint_to_address': '0x033ef5BEb70381CFb1217d3688fE4476C81572Fa',\n",
       " 'name': 'NFT_Name',\n",
       " 'description': 'NFT_Description'}"
      ]
     },
     "execution_count": 123,
     "metadata": {},
     "output_type": "execute_result"
    }
   ],
   "source": [
    "response.json()"
   ]
  },
  {
   "cell_type": "code",
   "execution_count": null,
   "id": "2aeb55f2-8ecd-4040-a858-533aca86e346",
   "metadata": {},
   "outputs": [],
   "source": []
  },
  {
   "cell_type": "markdown",
   "id": "53a28d27-5aa7-4502-9249-bca419ba6c9f",
   "metadata": {},
   "source": [
    "---"
   ]
  },
  {
   "cell_type": "code",
   "execution_count": null,
   "id": "6d438ef5-4868-4d76-98ee-b227d1d38cac",
   "metadata": {},
   "outputs": [],
   "source": [
    "import requests"
   ]
  },
  {
   "cell_type": "code",
   "execution_count": 124,
   "id": "ebac6af4-31e6-4719-912a-a63b453d2b59",
   "metadata": {},
   "outputs": [],
   "source": [
    "headers = {\n",
    "    'Authorization': '3f97b294-dad0-4b00-b7c3-4d9623b209d1',\n",
    "}\n",
    "\n",
    "json_data = {\n",
    "    'chain': 'goerli',\n",
    "    'name': 'BBVA 2022 Hackathon',\n",
    "    'symbol': 'BBVA',\n",
    "    'owner_address': '0x033ef5BEb70381CFb1217d3688fE4476C81572Fa',\n",
    "    'metadata_updatable': True,\n",
    "}\n",
    "\n",
    "response = requests.post('https://api.nftport.xyz/v0/contracts', headers=headers, json=json_data)"
   ]
  },
  {
   "cell_type": "code",
   "execution_count": 89,
   "id": "c7c68558-18ba-4ef4-8952-7dc1e9765c81",
   "metadata": {},
   "outputs": [
    {
     "data": {
      "text/plain": [
       "{'response': 'OK',\n",
       " 'chain': 'polygon',\n",
       " 'transaction_hash': '0x17d8102debc30b20da92e3c56d3b2b93469dc106b8ed88889bd6a68c8075a309',\n",
       " 'transaction_external_url': 'https://polygonscan.com/tx/0x17d8102debc30b20da92e3c56d3b2b93469dc106b8ed88889bd6a68c8075a309',\n",
       " 'owner_address': '0x033ef5BEb70381CFb1217d3688fE4476C81572Fa',\n",
       " 'type': 'erc721',\n",
       " 'name': 'BBVA 2022 Hackathon',\n",
       " 'symbol': 'BBVA'}"
      ]
     },
     "execution_count": 89,
     "metadata": {},
     "output_type": "execute_result"
    }
   ],
   "source": [
    "response.json()"
   ]
  },
  {
   "cell_type": "code",
   "execution_count": 125,
   "id": "5fa5630e-5b72-43a0-96b2-925e6f5c3778",
   "metadata": {},
   "outputs": [
    {
     "data": {
      "text/plain": [
       "{'response': 'OK',\n",
       " 'chain': 'goerli',\n",
       " 'transaction_hash': '0x9dbe51fda4c4417035a56b7e5fd12e348b60ab40ef9e2d311b3b06a28952757d',\n",
       " 'transaction_external_url': 'https://goerli.etherscan.io/tx/0x9dbe51fda4c4417035a56b7e5fd12e348b60ab40ef9e2d311b3b06a28952757d',\n",
       " 'owner_address': '0x033ef5BEb70381CFb1217d3688fE4476C81572Fa',\n",
       " 'type': 'erc721',\n",
       " 'name': 'BBVA 2022 Hackathon',\n",
       " 'symbol': 'BBVA'}"
      ]
     },
     "execution_count": 125,
     "metadata": {},
     "output_type": "execute_result"
    }
   ],
   "source": [
    "response.json()"
   ]
  },
  {
   "cell_type": "code",
   "execution_count": null,
   "id": "56508186-64ba-4479-ac5f-601dbb36d1d8",
   "metadata": {},
   "outputs": [],
   "source": []
  },
  {
   "cell_type": "code",
   "execution_count": 126,
   "id": "fda22bb9-99e6-41bd-abf6-22686c4faacc",
   "metadata": {},
   "outputs": [],
   "source": [
    "headers = {\n",
    "    'Authorization': '3f97b294-dad0-4b00-b7c3-4d9623b209d1',\n",
    "    'Content-Type': 'application/json',\n",
    "}\n",
    "\n",
    "params = {\n",
    "    'chain': 'goerli',\n",
    "}\n",
    "\n",
    "response = requests.get('https://api.nftport.xyz/v0/contracts/0x9dbe51fda4c4417035a56b7e5fd12e348b60ab40ef9e2d311b3b06a28952757d', params=params, headers=headers)"
   ]
  },
  {
   "cell_type": "code",
   "execution_count": 93,
   "id": "442c7cd9-7fbb-4e71-9c5f-5aaf84998912",
   "metadata": {},
   "outputs": [
    {
     "data": {
      "text/plain": [
       "{'response': 'OK',\n",
       " 'chain': 'polygon',\n",
       " 'contract_address': '0xA20DBFcf0c0A21f832A3D64b4a0eE200ABB629b4',\n",
       " 'transaction_hash': '0x17d8102debc30b20da92e3c56d3b2b93469dc106b8ed88889bd6a68c8075a309'}"
      ]
     },
     "execution_count": 93,
     "metadata": {},
     "output_type": "execute_result"
    }
   ],
   "source": [
    "response.json()"
   ]
  },
  {
   "cell_type": "code",
   "execution_count": 136,
   "id": "d4a7fb8f-0762-4c2a-9b24-6e85d10a46c9",
   "metadata": {},
   "outputs": [
    {
     "data": {
      "text/plain": [
       "{'response': 'NOK',\n",
       " 'error': {'status_code': 404,\n",
       "  'code': 'transaction_pending',\n",
       "  'message': 'The transaction is not yet recorded on chain. Please check again after some time.'}}"
      ]
     },
     "execution_count": 136,
     "metadata": {},
     "output_type": "execute_result"
    }
   ],
   "source": [
    "response.json()"
   ]
  },
  {
   "cell_type": "code",
   "execution_count": null,
   "id": "8f0d28f7-dc83-4871-b8b9-e9ac7b3247d9",
   "metadata": {},
   "outputs": [],
   "source": []
  },
  {
   "cell_type": "code",
   "execution_count": 114,
   "id": "1d9ad15c-e640-4fdd-93f7-2f82e8da82c0",
   "metadata": {},
   "outputs": [],
   "source": [
    "file = open(\"bbva.jpg\", \"rb\")\n",
    "\n",
    "response = requests.post(\n",
    "    \"https://api.nftport.xyz/v0/files\",\n",
    "    headers={'Authorization': '3f97b294-dad0-4b00-b7c3-4d9623b209d1',},\n",
    "    files={\"file\": file}\n",
    ")"
   ]
  },
  {
   "cell_type": "code",
   "execution_count": 115,
   "id": "329905e6-fbf7-43d6-8b94-6d8de7ad2ec0",
   "metadata": {},
   "outputs": [
    {
     "data": {
      "text/plain": [
       "{'response': 'OK',\n",
       " 'ipfs_url': 'https://ipfs.io/ipfs/bafkreiadsisrxwpjmo6guelrvg6ucaj4aqefqp6mgehef2ooiadxukz6uq',\n",
       " 'file_name': 'bbva.jpg',\n",
       " 'content_type': '',\n",
       " 'file_size': 54331,\n",
       " 'file_size_mb': 0.0518}"
      ]
     },
     "execution_count": 115,
     "metadata": {},
     "output_type": "execute_result"
    }
   ],
   "source": [
    "response.json()"
   ]
  },
  {
   "cell_type": "code",
   "execution_count": null,
   "id": "d0146f14-de97-48e0-972b-559650d7179c",
   "metadata": {},
   "outputs": [],
   "source": []
  },
  {
   "cell_type": "code",
   "execution_count": 116,
   "id": "613e8e8b-d8ba-4310-8d7b-26367abddbed",
   "metadata": {},
   "outputs": [],
   "source": [
    "headers = {\n",
    "    'Authorization': '3f97b294-dad0-4b00-b7c3-4d9623b209d1',\n",
    "}\n",
    "\n",
    "json_data = {\n",
    "    'name': 'BBVA #241',\n",
    "    'description': 'Que locura che!',\n",
    "    'file_url': 'https://ipfs.io/ipfs/bafkreiadsisrxwpjmo6guelrvg6ucaj4aqefqp6mgehef2ooiadxukz6uq',\n",
    "}\n",
    "\n",
    "response = requests.post('https://api.nftport.xyz/v0/metadata', headers=headers, json=json_data)"
   ]
  },
  {
   "cell_type": "code",
   "execution_count": 117,
   "id": "8882b013-2389-411c-9a2a-c88f5a211cd0",
   "metadata": {},
   "outputs": [
    {
     "data": {
      "text/plain": [
       "{'response': 'OK',\n",
       " 'metadata_uri': 'ipfs://bafkreib4rg3r6nmewjvpy5aik6mkvmijcmmt2pbsymkveyfujske67ashm',\n",
       " 'name': 'BBVA #241',\n",
       " 'description': 'Que locura che!',\n",
       " 'file_url': 'https://ipfs.io/ipfs/bafkreiadsisrxwpjmo6guelrvg6ucaj4aqefqp6mgehef2ooiadxukz6uq',\n",
       " 'external_url': None,\n",
       " 'animation_url': None,\n",
       " 'custom_fields': None,\n",
       " 'attributes': None}"
      ]
     },
     "execution_count": 117,
     "metadata": {},
     "output_type": "execute_result"
    }
   ],
   "source": [
    "response.json()"
   ]
  },
  {
   "cell_type": "code",
   "execution_count": null,
   "id": "5f7f3179-928a-46a5-9d6c-7f4bd36a6981",
   "metadata": {},
   "outputs": [],
   "source": []
  },
  {
   "cell_type": "code",
   "execution_count": 150,
   "id": "9ab69dd0-a37d-4874-8ec5-d68b6fd5000d",
   "metadata": {},
   "outputs": [],
   "source": [
    "headers = {\n",
    "    'Authorization': '3f97b294-dad0-4b00-b7c3-4d9623b209d1',\n",
    "}\n",
    "\n",
    "json_data = {\n",
    "    'chain': 'polygon',\n",
    "    'contract_address': '0xA20DBFcf0c0A21f832A3D64b4a0eE200ABB629b4',\n",
    "    'metadata_uri': 'ipfs://bafkreib4rg3r6nmewjvpy5aik6mkvmijcmmt2pbsymkveyfujske67ashm',\n",
    "    'mint_to_address': '0x033ef5BEb70381CFb1217d3688fE4476C81572Fa',\n",
    "}\n",
    "\n",
    "response = requests.post('https://api.nftport.xyz/v0/customizable', headers=headers, json=json_data)"
   ]
  },
  {
   "cell_type": "code",
   "execution_count": 151,
   "id": "0e6a9fb4-fae1-496c-9f1d-82d74d6fdddd",
   "metadata": {},
   "outputs": [
    {
     "data": {
      "text/plain": [
       "{'response': 'NOK',\n",
       " 'error': {'status_code': 404, 'code': 'not_found', 'message': 'Not Found.'}}"
      ]
     },
     "execution_count": 151,
     "metadata": {},
     "output_type": "execute_result"
    }
   ],
   "source": [
    "response.json()"
   ]
  },
  {
   "cell_type": "code",
   "execution_count": null,
   "id": "28fc146c-6ef3-4243-a185-1d96379b15b1",
   "metadata": {},
   "outputs": [],
   "source": []
  },
  {
   "cell_type": "code",
   "execution_count": null,
   "id": "cbcb6507-7a26-41d6-a607-4d52a003b98b",
   "metadata": {},
   "outputs": [],
   "source": []
  },
  {
   "cell_type": "code",
   "execution_count": null,
   "id": "f3930eb6-fa06-4eb5-a838-9070115f8350",
   "metadata": {},
   "outputs": [],
   "source": []
  },
  {
   "cell_type": "code",
   "execution_count": 146,
   "id": "5797a2cc-a6bb-4732-96ff-f195a1967997",
   "metadata": {},
   "outputs": [
    {
     "name": "stdout",
     "output_type": "stream",
     "text": [
      "{\"next\":null,\"previous\":null,\"nfts\":[{\"nft_id\":\"polygon.0x55a8dbe6f191b370885d01e30cb7d36d0fa99f16.6283\",\"chain\":\"polygon\",\"contract_address\":\"0x55A8DBe6F191B370885D01E30CB7D36d0fA99F16\",\"token_id\":\"6283\",\"name\":\"CoolNFT\",\"description\":\"Maneiro Top\",\"image_url\":\"https://cdn.simplehash.com/assets/31001baa2b3e6d8129e48363652d5ec37a4716059d858853341193df65ee8688.png\",\"video_url\":null,\"audio_url\":null,\"model_url\":null,\"previews\":{\"image_small_url\":\"https://lh3.googleusercontent.com/1Qtc8l7cyWA_ZqNTJu317enxGgrjH1HAWz3Tm6fm0D3C-w-uumqLVNFUvIxZY3HymJhO_aBoeFvvDoIFoTPIyzR3g_ZVYQZs_FSx=s250\",\"image_medium_url\":\"https://lh3.googleusercontent.com/1Qtc8l7cyWA_ZqNTJu317enxGgrjH1HAWz3Tm6fm0D3C-w-uumqLVNFUvIxZY3HymJhO_aBoeFvvDoIFoTPIyzR3g_ZVYQZs_FSx\",\"image_large_url\":\"https://lh3.googleusercontent.com/1Qtc8l7cyWA_ZqNTJu317enxGgrjH1HAWz3Tm6fm0D3C-w-uumqLVNFUvIxZY3HymJhO_aBoeFvvDoIFoTPIyzR3g_ZVYQZs_FSx=s1000\",\"image_opengraph_url\":\"https://lh3.googleusercontent.com/1Qtc8l7cyWA_ZqNTJu317enxGgrjH1HAWz3Tm6fm0D3C-w-uumqLVNFUvIxZY3HymJhO_aBoeFvvDoIFoTPIyzR3g_ZVYQZs_FSx=k-w1200-s2400-rj\",\"blurhash\":\"UQDStBn-03ng5uWT$%i{DkWQx@R;r.r;tRXn\"},\"background_color\":null,\"external_url\":null,\"created_date\":\"2022-10-23T05:46:20\",\"status\":\"minted\",\"token_count\":1,\"owner_count\":1,\"owners\":[{\"owner_address\":\"0x40bbc6e3894c352630A1de3DF2AfcD6E6fd54155\",\"quantity\":1,\"first_acquired_date\":\"2022-10-23T05:46:20\",\"last_acquired_date\":\"2022-10-23T05:46:20\"}],\"last_sale\":null,\"contract\":{\"type\":\"ERC721\",\"name\":\"NFTPort.xyz v4\",\"symbol\":\"NFTP\"},\"collection\":{\"collection_id\":\"5d219549a9185d9c9e2e82736f1f8f20\",\"name\":\"NFTPort.xyz v4\",\"description\":null,\"image_url\":\"https://lh3.googleusercontent.com/2rdsG9WOKozF6kBYPWvrq3EbfSraUD8JTpvWD6f3lhntY0nxesax1cq9zmDor5OpfSv50DKEMekpZ3MIuKPbgqzjPuE4QljHLMGT\",\"banner_image_url\":null,\"external_url\":null,\"twitter_username\":null,\"discord_url\":null,\"marketplace_pages\":[{\"marketplace_id\":\"opensea\",\"marketplace_name\":\"OpenSea\",\"marketplace_collection_id\":\"nftport-xyz-v4\",\"nft_url\":\"https://opensea.io/assets/matic/0x55a8dbe6f191b370885d01e30cb7d36d0fa99f16/6283\",\"collection_url\":\"https://opensea.io/collection/nftport-xyz-v4\",\"verified\":false}],\"metaplex_mint\":null,\"metaplex_first_verified_creator\":null,\"floor_prices\":[]},\"extra_metadata\":{\"image_original_url\":\"https://ipfs.io/ipfs/bafkreibraan2ukz6nwastzedmnss2xwdpjdrmbm5qwefgnarsppwl3ugra\",\"animation_original_url\":null}},{\"nft_id\":\"polygon.0x55a8dbe6f191b370885d01e30cb7d36d0fa99f16.6285\",\"chain\":\"polygon\",\"contract_address\":\"0x55A8DBe6F191B370885D01E30CB7D36d0fA99F16\",\"token_id\":\"6285\",\"name\":\"BBVA 2022\",\"description\":\"La mejor hackathon!\",\"image_url\":\"https://cdn.simplehash.com/assets/1a21ff6a67a812c0bce96949d6dcd3ecf8c597ef085ce8759296a4d1577330f6.png\",\"video_url\":null,\"audio_url\":null,\"model_url\":null,\"previews\":{\"image_small_url\":\"https://lh3.googleusercontent.com/4RanB1j38xsWQwLVAvrSP8d0RFLWXueYm9cqEJ5i_-kT7w_-cMyd5gC2KgrDOaenHlz9JQA-CUXry9TaEL70sEjAZlvBfexv8yQ5=s250\",\"image_medium_url\":\"https://lh3.googleusercontent.com/4RanB1j38xsWQwLVAvrSP8d0RFLWXueYm9cqEJ5i_-kT7w_-cMyd5gC2KgrDOaenHlz9JQA-CUXry9TaEL70sEjAZlvBfexv8yQ5\",\"image_large_url\":\"https://lh3.googleusercontent.com/4RanB1j38xsWQwLVAvrSP8d0RFLWXueYm9cqEJ5i_-kT7w_-cMyd5gC2KgrDOaenHlz9JQA-CUXry9TaEL70sEjAZlvBfexv8yQ5=s1000\",\"image_opengraph_url\":\"https://lh3.googleusercontent.com/4RanB1j38xsWQwLVAvrSP8d0RFLWXueYm9cqEJ5i_-kT7w_-cMyd5gC2KgrDOaenHlz9JQA-CUXry9TaEL70sEjAZlvBfexv8yQ5=k-w1200-s2400-rj\",\"blurhash\":\"UuIfQ?jcRca#-sbENDa#W?oLoZa#R*k8xZa#\"},\"background_color\":null,\"external_url\":null,\"created_date\":\"2022-10-23T05:58:20\",\"status\":\"minted\",\"token_count\":1,\"owner_count\":1,\"owners\":[{\"owner_address\":\"0x40bbc6e3894c352630A1de3DF2AfcD6E6fd54155\",\"quantity\":1,\"first_acquired_date\":\"2022-10-23T05:58:20\",\"last_acquired_date\":\"2022-10-23T05:58:20\"}],\"last_sale\":null,\"contract\":{\"type\":\"ERC721\",\"name\":\"NFTPort.xyz v4\",\"symbol\":\"NFTP\"},\"collection\":{\"collection_id\":\"5d219549a9185d9c9e2e82736f1f8f20\",\"name\":\"NFTPort.xyz v4\",\"description\":null,\"image_url\":\"https://lh3.googleusercontent.com/2rdsG9WOKozF6kBYPWvrq3EbfSraUD8JTpvWD6f3lhntY0nxesax1cq9zmDor5OpfSv50DKEMekpZ3MIuKPbgqzjPuE4QljHLMGT\",\"banner_image_url\":null,\"external_url\":null,\"twitter_username\":null,\"discord_url\":null,\"marketplace_pages\":[{\"marketplace_id\":\"opensea\",\"marketplace_name\":\"OpenSea\",\"marketplace_collection_id\":\"nftport-xyz-v4\",\"nft_url\":\"https://opensea.io/assets/matic/0x55a8dbe6f191b370885d01e30cb7d36d0fa99f16/6285\",\"collection_url\":\"https://opensea.io/collection/nftport-xyz-v4\",\"verified\":false}],\"metaplex_mint\":null,\"metaplex_first_verified_creator\":null,\"floor_prices\":[]},\"extra_metadata\":{\"image_original_url\":\"https://ipfs.io/ipfs/bafybeigtzk3utq5364uyfdpcp3ywot6czocysmijikttcaqxm4wk3fnauu\",\"animation_original_url\":null}},{\"nft_id\":\"polygon.0x55a8dbe6f191b370885d01e30cb7d36d0fa99f16.6286\",\"chain\":\"polygon\",\"contract_address\":\"0x55A8DBe6F191B370885D01E30CB7D36d0fA99F16\",\"token_id\":\"6286\",\"name\":\"BBVA 2022\",\"description\":\"La mejor hackathon!\",\"image_url\":\"https://cdn.simplehash.com/assets/c43aab9e8dc4a4f1407f1389508a3a75ee5d6d13bd2694b85099628760a9c5aa.png\",\"video_url\":null,\"audio_url\":null,\"model_url\":null,\"previews\":{\"image_small_url\":\"https://lh3.googleusercontent.com/lwsaFn0Y3uBi3qD0wBg4XHsIPQFpHq-nAnYu0Bxhg2Ga4OYS7mvXzoxMy41JHs1DafrEZnsu76IXWv3bh24AvL196x_Yt-tswwU=s250\",\"image_medium_url\":\"https://lh3.googleusercontent.com/lwsaFn0Y3uBi3qD0wBg4XHsIPQFpHq-nAnYu0Bxhg2Ga4OYS7mvXzoxMy41JHs1DafrEZnsu76IXWv3bh24AvL196x_Yt-tswwU\",\"image_large_url\":\"https://lh3.googleusercontent.com/lwsaFn0Y3uBi3qD0wBg4XHsIPQFpHq-nAnYu0Bxhg2Ga4OYS7mvXzoxMy41JHs1DafrEZnsu76IXWv3bh24AvL196x_Yt-tswwU=s1000\",\"image_opengraph_url\":\"https://lh3.googleusercontent.com/lwsaFn0Y3uBi3qD0wBg4XHsIPQFpHq-nAnYu0Bxhg2Ga4OYS7mvXzoxMy41JHs1DafrEZnsu76IXWv3bh24AvL196x_Yt-tswwU=k-w1200-s2400-rj\",\"blurhash\":\"UjIYFEs;?1juyBWUNFoMM}kAkPjcxvW-aKjb\"},\"background_color\":null,\"external_url\":null,\"created_date\":\"2022-10-23T06:02:48\",\"status\":\"minted\",\"token_count\":1,\"owner_count\":1,\"owners\":[{\"owner_address\":\"0x40bbc6e3894c352630A1de3DF2AfcD6E6fd54155\",\"quantity\":1,\"first_acquired_date\":\"2022-10-23T06:02:48\",\"last_acquired_date\":\"2022-10-23T06:02:48\"}],\"last_sale\":null,\"contract\":{\"type\":\"ERC721\",\"name\":\"NFTPort.xyz v4\",\"symbol\":\"NFTP\"},\"collection\":{\"collection_id\":\"5d219549a9185d9c9e2e82736f1f8f20\",\"name\":\"NFTPort.xyz v4\",\"description\":null,\"image_url\":\"https://lh3.googleusercontent.com/2rdsG9WOKozF6kBYPWvrq3EbfSraUD8JTpvWD6f3lhntY0nxesax1cq9zmDor5OpfSv50DKEMekpZ3MIuKPbgqzjPuE4QljHLMGT\",\"banner_image_url\":null,\"external_url\":null,\"twitter_username\":null,\"discord_url\":null,\"marketplace_pages\":[{\"marketplace_id\":\"opensea\",\"marketplace_name\":\"OpenSea\",\"marketplace_collection_id\":\"nftport-xyz-v4\",\"nft_url\":\"https://opensea.io/assets/matic/0x55a8dbe6f191b370885d01e30cb7d36d0fa99f16/6286\",\"collection_url\":\"https://opensea.io/collection/nftport-xyz-v4\",\"verified\":false}],\"metaplex_mint\":null,\"metaplex_first_verified_creator\":null,\"floor_prices\":[]},\"extra_metadata\":{\"image_original_url\":\"https://ipfs.io/ipfs/bafybeihjsupcby34o4je2vuqbj3jmwuqehvz74ncbpi22rxkldqp4nx3z4\",\"animation_original_url\":null}}]}\n"
     ]
    }
   ],
   "source": [
    "import requests\n",
    "\n",
    "url = \"https://api.simplehash.com/api/v0/nfts/owners?chains=polygon&wallet_addresses=0x40bbc6e3894c352630a1de3df2afcd6e6fd54155\"\n",
    "\n",
    "headers = {\n",
    "    \"accept\": \"application/json\",\n",
    "    \"X-API-KEY\": \"frankmosheh_sk_0f9d5546-f383-498c-83cb-6bbe61ac6dcc_9qal5bc0negjs6jo\"\n",
    "}\n",
    "\n",
    "response = requests.get(url, headers=headers)\n",
    "\n",
    "print(response.text)"
   ]
  },
  {
   "cell_type": "code",
   "execution_count": 147,
   "id": "e4973f4a-a195-487b-911a-ef304b34f644",
   "metadata": {},
   "outputs": [
    {
     "data": {
      "text/plain": [
       "{'next': None,\n",
       " 'previous': None,\n",
       " 'nfts': [{'nft_id': 'polygon.0x55a8dbe6f191b370885d01e30cb7d36d0fa99f16.6283',\n",
       "   'chain': 'polygon',\n",
       "   'contract_address': '0x55A8DBe6F191B370885D01E30CB7D36d0fA99F16',\n",
       "   'token_id': '6283',\n",
       "   'name': 'CoolNFT',\n",
       "   'description': 'Maneiro Top',\n",
       "   'image_url': 'https://cdn.simplehash.com/assets/31001baa2b3e6d8129e48363652d5ec37a4716059d858853341193df65ee8688.png',\n",
       "   'video_url': None,\n",
       "   'audio_url': None,\n",
       "   'model_url': None,\n",
       "   'previews': {'image_small_url': 'https://lh3.googleusercontent.com/1Qtc8l7cyWA_ZqNTJu317enxGgrjH1HAWz3Tm6fm0D3C-w-uumqLVNFUvIxZY3HymJhO_aBoeFvvDoIFoTPIyzR3g_ZVYQZs_FSx=s250',\n",
       "    'image_medium_url': 'https://lh3.googleusercontent.com/1Qtc8l7cyWA_ZqNTJu317enxGgrjH1HAWz3Tm6fm0D3C-w-uumqLVNFUvIxZY3HymJhO_aBoeFvvDoIFoTPIyzR3g_ZVYQZs_FSx',\n",
       "    'image_large_url': 'https://lh3.googleusercontent.com/1Qtc8l7cyWA_ZqNTJu317enxGgrjH1HAWz3Tm6fm0D3C-w-uumqLVNFUvIxZY3HymJhO_aBoeFvvDoIFoTPIyzR3g_ZVYQZs_FSx=s1000',\n",
       "    'image_opengraph_url': 'https://lh3.googleusercontent.com/1Qtc8l7cyWA_ZqNTJu317enxGgrjH1HAWz3Tm6fm0D3C-w-uumqLVNFUvIxZY3HymJhO_aBoeFvvDoIFoTPIyzR3g_ZVYQZs_FSx=k-w1200-s2400-rj',\n",
       "    'blurhash': 'UQDStBn-03ng5uWT$%i{DkWQx@R;r.r;tRXn'},\n",
       "   'background_color': None,\n",
       "   'external_url': None,\n",
       "   'created_date': '2022-10-23T05:46:20',\n",
       "   'status': 'minted',\n",
       "   'token_count': 1,\n",
       "   'owner_count': 1,\n",
       "   'owners': [{'owner_address': '0x40bbc6e3894c352630A1de3DF2AfcD6E6fd54155',\n",
       "     'quantity': 1,\n",
       "     'first_acquired_date': '2022-10-23T05:46:20',\n",
       "     'last_acquired_date': '2022-10-23T05:46:20'}],\n",
       "   'last_sale': None,\n",
       "   'contract': {'type': 'ERC721', 'name': 'NFTPort.xyz v4', 'symbol': 'NFTP'},\n",
       "   'collection': {'collection_id': '5d219549a9185d9c9e2e82736f1f8f20',\n",
       "    'name': 'NFTPort.xyz v4',\n",
       "    'description': None,\n",
       "    'image_url': 'https://lh3.googleusercontent.com/2rdsG9WOKozF6kBYPWvrq3EbfSraUD8JTpvWD6f3lhntY0nxesax1cq9zmDor5OpfSv50DKEMekpZ3MIuKPbgqzjPuE4QljHLMGT',\n",
       "    'banner_image_url': None,\n",
       "    'external_url': None,\n",
       "    'twitter_username': None,\n",
       "    'discord_url': None,\n",
       "    'marketplace_pages': [{'marketplace_id': 'opensea',\n",
       "      'marketplace_name': 'OpenSea',\n",
       "      'marketplace_collection_id': 'nftport-xyz-v4',\n",
       "      'nft_url': 'https://opensea.io/assets/matic/0x55a8dbe6f191b370885d01e30cb7d36d0fa99f16/6283',\n",
       "      'collection_url': 'https://opensea.io/collection/nftport-xyz-v4',\n",
       "      'verified': False}],\n",
       "    'metaplex_mint': None,\n",
       "    'metaplex_first_verified_creator': None,\n",
       "    'floor_prices': []},\n",
       "   'extra_metadata': {'image_original_url': 'https://ipfs.io/ipfs/bafkreibraan2ukz6nwastzedmnss2xwdpjdrmbm5qwefgnarsppwl3ugra',\n",
       "    'animation_original_url': None}},\n",
       "  {'nft_id': 'polygon.0x55a8dbe6f191b370885d01e30cb7d36d0fa99f16.6285',\n",
       "   'chain': 'polygon',\n",
       "   'contract_address': '0x55A8DBe6F191B370885D01E30CB7D36d0fA99F16',\n",
       "   'token_id': '6285',\n",
       "   'name': 'BBVA 2022',\n",
       "   'description': 'La mejor hackathon!',\n",
       "   'image_url': 'https://cdn.simplehash.com/assets/1a21ff6a67a812c0bce96949d6dcd3ecf8c597ef085ce8759296a4d1577330f6.png',\n",
       "   'video_url': None,\n",
       "   'audio_url': None,\n",
       "   'model_url': None,\n",
       "   'previews': {'image_small_url': 'https://lh3.googleusercontent.com/4RanB1j38xsWQwLVAvrSP8d0RFLWXueYm9cqEJ5i_-kT7w_-cMyd5gC2KgrDOaenHlz9JQA-CUXry9TaEL70sEjAZlvBfexv8yQ5=s250',\n",
       "    'image_medium_url': 'https://lh3.googleusercontent.com/4RanB1j38xsWQwLVAvrSP8d0RFLWXueYm9cqEJ5i_-kT7w_-cMyd5gC2KgrDOaenHlz9JQA-CUXry9TaEL70sEjAZlvBfexv8yQ5',\n",
       "    'image_large_url': 'https://lh3.googleusercontent.com/4RanB1j38xsWQwLVAvrSP8d0RFLWXueYm9cqEJ5i_-kT7w_-cMyd5gC2KgrDOaenHlz9JQA-CUXry9TaEL70sEjAZlvBfexv8yQ5=s1000',\n",
       "    'image_opengraph_url': 'https://lh3.googleusercontent.com/4RanB1j38xsWQwLVAvrSP8d0RFLWXueYm9cqEJ5i_-kT7w_-cMyd5gC2KgrDOaenHlz9JQA-CUXry9TaEL70sEjAZlvBfexv8yQ5=k-w1200-s2400-rj',\n",
       "    'blurhash': 'UuIfQ?jcRca#-sbENDa#W?oLoZa#R*k8xZa#'},\n",
       "   'background_color': None,\n",
       "   'external_url': None,\n",
       "   'created_date': '2022-10-23T05:58:20',\n",
       "   'status': 'minted',\n",
       "   'token_count': 1,\n",
       "   'owner_count': 1,\n",
       "   'owners': [{'owner_address': '0x40bbc6e3894c352630A1de3DF2AfcD6E6fd54155',\n",
       "     'quantity': 1,\n",
       "     'first_acquired_date': '2022-10-23T05:58:20',\n",
       "     'last_acquired_date': '2022-10-23T05:58:20'}],\n",
       "   'last_sale': None,\n",
       "   'contract': {'type': 'ERC721', 'name': 'NFTPort.xyz v4', 'symbol': 'NFTP'},\n",
       "   'collection': {'collection_id': '5d219549a9185d9c9e2e82736f1f8f20',\n",
       "    'name': 'NFTPort.xyz v4',\n",
       "    'description': None,\n",
       "    'image_url': 'https://lh3.googleusercontent.com/2rdsG9WOKozF6kBYPWvrq3EbfSraUD8JTpvWD6f3lhntY0nxesax1cq9zmDor5OpfSv50DKEMekpZ3MIuKPbgqzjPuE4QljHLMGT',\n",
       "    'banner_image_url': None,\n",
       "    'external_url': None,\n",
       "    'twitter_username': None,\n",
       "    'discord_url': None,\n",
       "    'marketplace_pages': [{'marketplace_id': 'opensea',\n",
       "      'marketplace_name': 'OpenSea',\n",
       "      'marketplace_collection_id': 'nftport-xyz-v4',\n",
       "      'nft_url': 'https://opensea.io/assets/matic/0x55a8dbe6f191b370885d01e30cb7d36d0fa99f16/6285',\n",
       "      'collection_url': 'https://opensea.io/collection/nftport-xyz-v4',\n",
       "      'verified': False}],\n",
       "    'metaplex_mint': None,\n",
       "    'metaplex_first_verified_creator': None,\n",
       "    'floor_prices': []},\n",
       "   'extra_metadata': {'image_original_url': 'https://ipfs.io/ipfs/bafybeigtzk3utq5364uyfdpcp3ywot6czocysmijikttcaqxm4wk3fnauu',\n",
       "    'animation_original_url': None}},\n",
       "  {'nft_id': 'polygon.0x55a8dbe6f191b370885d01e30cb7d36d0fa99f16.6286',\n",
       "   'chain': 'polygon',\n",
       "   'contract_address': '0x55A8DBe6F191B370885D01E30CB7D36d0fA99F16',\n",
       "   'token_id': '6286',\n",
       "   'name': 'BBVA 2022',\n",
       "   'description': 'La mejor hackathon!',\n",
       "   'image_url': 'https://cdn.simplehash.com/assets/c43aab9e8dc4a4f1407f1389508a3a75ee5d6d13bd2694b85099628760a9c5aa.png',\n",
       "   'video_url': None,\n",
       "   'audio_url': None,\n",
       "   'model_url': None,\n",
       "   'previews': {'image_small_url': 'https://lh3.googleusercontent.com/lwsaFn0Y3uBi3qD0wBg4XHsIPQFpHq-nAnYu0Bxhg2Ga4OYS7mvXzoxMy41JHs1DafrEZnsu76IXWv3bh24AvL196x_Yt-tswwU=s250',\n",
       "    'image_medium_url': 'https://lh3.googleusercontent.com/lwsaFn0Y3uBi3qD0wBg4XHsIPQFpHq-nAnYu0Bxhg2Ga4OYS7mvXzoxMy41JHs1DafrEZnsu76IXWv3bh24AvL196x_Yt-tswwU',\n",
       "    'image_large_url': 'https://lh3.googleusercontent.com/lwsaFn0Y3uBi3qD0wBg4XHsIPQFpHq-nAnYu0Bxhg2Ga4OYS7mvXzoxMy41JHs1DafrEZnsu76IXWv3bh24AvL196x_Yt-tswwU=s1000',\n",
       "    'image_opengraph_url': 'https://lh3.googleusercontent.com/lwsaFn0Y3uBi3qD0wBg4XHsIPQFpHq-nAnYu0Bxhg2Ga4OYS7mvXzoxMy41JHs1DafrEZnsu76IXWv3bh24AvL196x_Yt-tswwU=k-w1200-s2400-rj',\n",
       "    'blurhash': 'UjIYFEs;?1juyBWUNFoMM}kAkPjcxvW-aKjb'},\n",
       "   'background_color': None,\n",
       "   'external_url': None,\n",
       "   'created_date': '2022-10-23T06:02:48',\n",
       "   'status': 'minted',\n",
       "   'token_count': 1,\n",
       "   'owner_count': 1,\n",
       "   'owners': [{'owner_address': '0x40bbc6e3894c352630A1de3DF2AfcD6E6fd54155',\n",
       "     'quantity': 1,\n",
       "     'first_acquired_date': '2022-10-23T06:02:48',\n",
       "     'last_acquired_date': '2022-10-23T06:02:48'}],\n",
       "   'last_sale': None,\n",
       "   'contract': {'type': 'ERC721', 'name': 'NFTPort.xyz v4', 'symbol': 'NFTP'},\n",
       "   'collection': {'collection_id': '5d219549a9185d9c9e2e82736f1f8f20',\n",
       "    'name': 'NFTPort.xyz v4',\n",
       "    'description': None,\n",
       "    'image_url': 'https://lh3.googleusercontent.com/2rdsG9WOKozF6kBYPWvrq3EbfSraUD8JTpvWD6f3lhntY0nxesax1cq9zmDor5OpfSv50DKEMekpZ3MIuKPbgqzjPuE4QljHLMGT',\n",
       "    'banner_image_url': None,\n",
       "    'external_url': None,\n",
       "    'twitter_username': None,\n",
       "    'discord_url': None,\n",
       "    'marketplace_pages': [{'marketplace_id': 'opensea',\n",
       "      'marketplace_name': 'OpenSea',\n",
       "      'marketplace_collection_id': 'nftport-xyz-v4',\n",
       "      'nft_url': 'https://opensea.io/assets/matic/0x55a8dbe6f191b370885d01e30cb7d36d0fa99f16/6286',\n",
       "      'collection_url': 'https://opensea.io/collection/nftport-xyz-v4',\n",
       "      'verified': False}],\n",
       "    'metaplex_mint': None,\n",
       "    'metaplex_first_verified_creator': None,\n",
       "    'floor_prices': []},\n",
       "   'extra_metadata': {'image_original_url': 'https://ipfs.io/ipfs/bafybeihjsupcby34o4je2vuqbj3jmwuqehvz74ncbpi22rxkldqp4nx3z4',\n",
       "    'animation_original_url': None}}]}"
      ]
     },
     "execution_count": 147,
     "metadata": {},
     "output_type": "execute_result"
    }
   ],
   "source": [
    "response.json()"
   ]
  },
  {
   "cell_type": "code",
   "execution_count": null,
   "id": "96e354cb-3c96-439c-92b8-b0b27c745c42",
   "metadata": {},
   "outputs": [],
   "source": []
  },
  {
   "cell_type": "code",
   "execution_count": null,
   "id": "874aad52-838d-4658-869f-e7ea2fc425d3",
   "metadata": {},
   "outputs": [],
   "source": []
  },
  {
   "cell_type": "code",
   "execution_count": 165,
   "id": "7ea21742-1def-41fc-9e47-ca542c62c21d",
   "metadata": {},
   "outputs": [],
   "source": [
    "emails_raw = \"f@fasd , adsa@dai, asdai@adsad aomiai\""
   ]
  },
  {
   "cell_type": "code",
   "execution_count": 167,
   "id": "a5ada87a-2b0c-484b-883a-fc4c3914df13",
   "metadata": {},
   "outputs": [],
   "source": [
    "emails = emails_raw.replace('\\n', ',').strip().replace(',', ' ').split()"
   ]
  },
  {
   "cell_type": "code",
   "execution_count": 168,
   "id": "442638b1-4417-4dcc-b633-e69e6fb78e32",
   "metadata": {},
   "outputs": [
    {
     "data": {
      "text/plain": [
       "['f@fasd', 'adsa@dai', 'asdai@adsad', 'aomiai']"
      ]
     },
     "execution_count": 168,
     "metadata": {},
     "output_type": "execute_result"
    }
   ],
   "source": [
    "emails"
   ]
  },
  {
   "cell_type": "code",
   "execution_count": null,
   "id": "503a7076-a8e4-409f-8598-eebe482f79b2",
   "metadata": {},
   "outputs": [],
   "source": []
  }
 ],
 "metadata": {
  "kernelspec": {
   "display_name": "Python 3 (ipykernel)",
   "language": "python",
   "name": "python3"
  },
  "language_info": {
   "codemirror_mode": {
    "name": "ipython",
    "version": 3
   },
   "file_extension": ".py",
   "mimetype": "text/x-python",
   "name": "python",
   "nbconvert_exporter": "python",
   "pygments_lexer": "ipython3",
   "version": "3.8.10"
  }
 },
 "nbformat": 4,
 "nbformat_minor": 5
}
