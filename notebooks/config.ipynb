{
 "cells": [
  {
   "cell_type": "code",
   "execution_count": 22,
   "id": "b7db85cd-7e50-4ebd-b9b2-a5376992c8bc",
   "metadata": {},
   "outputs": [],
   "source": [
    "from dotenv import dotenv_values\n",
    "variables = dotenv_values(\".env\") "
   ]
  },
  {
   "cell_type": "code",
   "execution_count": 23,
   "id": "da8ff0b7-9676-4b51-8822-69bc9c83621a",
   "metadata": {},
   "outputs": [],
   "source": [
    "def config():\n",
    "    config_values = dict(user=variables['USERNAME'],\n",
    "    password = variables['PASSWORD'],\n",
    "    host = variables['HOST'],\n",
    "    port = variables['PORT'],\n",
    "    database = variables['DATABASE'])\n",
    "    return config_values"
   ]
  },
  {
   "cell_type": "code",
   "execution_count": 24,
   "id": "9ce01e4d-ede1-4caf-93ed-6a7e72e01597",
   "metadata": {},
   "outputs": [],
   "source": [
    "def cross():\n",
    "    cross_values = dict(cross_secret = variables['CROSS_SECRET'],\n",
    "    cross_id = variables['CROSS_ID'])\n",
    "    return cross_values"
   ]
  },
  {
   "cell_type": "code",
   "execution_count": 25,
   "id": "e8c15aab-7fe3-4c39-874e-8b470e2e365b",
   "metadata": {},
   "outputs": [],
   "source": [
    "def nftport():\n",
    "    nftport_values = dict(nftport_secret = variables['NFTPORT_SECRET'])\n",
    "    return nftport_values"
   ]
  },
  {
   "cell_type": "code",
   "execution_count": 28,
   "id": "813b563a-ab0c-4bb7-b255-930a2678c473",
   "metadata": {},
   "outputs": [],
   "source": [
    "def simplehash():\n",
    "    simplehash_values = dict(simplehash_secret = variables['SIMPLEHASH'])\n",
    "    return simplehash_values"
   ]
  },
  {
   "cell_type": "code",
   "execution_count": 32,
   "id": "bb5dfb4b-b62c-422b-830a-38d7c754b4c4",
   "metadata": {},
   "outputs": [],
   "source": [
    "def dinary():\n",
    "    dinary_values = dict(dinary_secret = variables['CLOUDINARY_URL'])\n",
    "    return dinary_values"
   ]
  },
  {
   "cell_type": "code",
   "execution_count": 34,
   "id": "de0afd7e-6808-4db6-b0bf-b667d7e749e6",
   "metadata": {},
   "outputs": [
    {
     "name": "stdout",
     "output_type": "stream",
     "text": [
      "[jupytext] Reading config.ipynb in format ipynb\n",
      "[jupytext] Writing config.py (destination file replaced)\n"
     ]
    }
   ],
   "source": [
    "! jupytext --to py config.ipynb"
   ]
  },
  {
   "cell_type": "code",
   "execution_count": 4,
   "id": "f684f00a-3107-42d6-83d2-e93f51eb2a44",
   "metadata": {},
   "outputs": [],
   "source": [
    "# config()"
   ]
  },
  {
   "cell_type": "code",
   "execution_count": null,
   "id": "3d4298ad-9b45-4687-b1de-2757ca6f8f1e",
   "metadata": {},
   "outputs": [],
   "source": []
  },
  {
   "cell_type": "code",
   "execution_count": null,
   "id": "3e1cb316-b244-4cda-bd7a-3fa745028d05",
   "metadata": {},
   "outputs": [],
   "source": []
  }
 ],
 "metadata": {
  "kernelspec": {
   "display_name": "Python 3 (ipykernel)",
   "language": "python",
   "name": "python3"
  },
  "language_info": {
   "codemirror_mode": {
    "name": "ipython",
    "version": 3
   },
   "file_extension": ".py",
   "mimetype": "text/x-python",
   "name": "python",
   "nbconvert_exporter": "python",
   "pygments_lexer": "ipython3",
   "version": "3.8.10"
  }
 },
 "nbformat": 4,
 "nbformat_minor": 5
}
