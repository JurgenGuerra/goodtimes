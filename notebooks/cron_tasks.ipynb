{
 "cells": [
  {
   "cell_type": "code",
   "execution_count": 1,
   "id": "d0c10974-f378-4da7-a7f9-a3166bac26e3",
   "metadata": {},
   "outputs": [],
   "source": [
    "import concurrent.futures\n",
    "import requests\n",
    "import json\n",
    "import random"
   ]
  },
  {
   "cell_type": "code",
   "execution_count": 2,
   "id": "6aef6be2-15b2-4445-b08e-b8ecea918d3a",
   "metadata": {},
   "outputs": [],
   "source": [
    "import psycopg2"
   ]
  },
  {
   "cell_type": "code",
   "execution_count": 3,
   "id": "badf3771-3a1c-46cf-b69d-b5a36eecb1ef",
   "metadata": {},
   "outputs": [],
   "source": [
    "from config import config, cross"
   ]
  },
  {
   "cell_type": "code",
   "execution_count": 4,
   "id": "2ef51a01-3cb8-45af-bccb-60255511f9ea",
   "metadata": {},
   "outputs": [],
   "source": [
    "def verify_nft(id_sent):\n",
    "    cross_params = cross()\n",
    "    headers = {\n",
    "        'x-client-secret': cross_params['cross_secret'],\n",
    "        'x-project-id': cross_params['cross_id'],\n",
    "    }\n",
    "    response = requests.get('https://staging.crossmint.io/api/2022-06-09/collections/default/nfts/' + id_sent, headers=headers, timeout=10)\n",
    "    return response.json()"
   ]
  },
  {
   "cell_type": "code",
   "execution_count": 5,
   "id": "01191d1c-945f-4946-bade-ceaae1235139",
   "metadata": {},
   "outputs": [],
   "source": [
    "def get_tx_to_monitor(id_batchs):\n",
    "    \"\"\"\n",
    "    A dataframe from aggregated_investments table in order to save a snapshot\n",
    "    Returns:\n",
    "        snapshot: a dataframe with all the relevan fields to save\n",
    "    \"\"\"\n",
    "    sql = \"SELECT id_sent FROM sent WHERE batch = %s\"\n",
    "    conn = None\n",
    "    data = []\n",
    "    try:\n",
    "        params = config()\n",
    "        conn = psycopg2.connect(**params)\n",
    "        cur = conn.cursor()\n",
    "        cur.execute(sql, (id_batchs,))\n",
    "        email_users = cur.fetchall()\n",
    "        for row in email_users:\n",
    "            data.append({'id_sent': row[0]})\n",
    "    except (Exception, psycopg2.DatabaseError) as error:\n",
    "        print(error)\n",
    "    finally:\n",
    "        if conn is not None:\n",
    "            conn.close()\n",
    "    \n",
    "    return data"
   ]
  },
  {
   "cell_type": "code",
   "execution_count": 6,
   "id": "e650b896-4cf0-4883-9a0f-5e5e7aac369b",
   "metadata": {},
   "outputs": [],
   "source": [
    "id_batchs = 4\n",
    "transactions = get_tx_to_monitor(id_batchs = id_batchs)"
   ]
  },
  {
   "cell_type": "code",
   "execution_count": 7,
   "id": "76552c14-8ac3-444c-b124-434aef634f04",
   "metadata": {},
   "outputs": [
    {
     "data": {
      "text/plain": [
       "[{'id_sent': '29b16ad4-8fc0-499c-a229-9b7363d2dae9'},\n",
       " {'id_sent': 'c03dcc4a-f1c8-452f-9bbe-3f76697a0ee8'}]"
      ]
     },
     "execution_count": 7,
     "metadata": {},
     "output_type": "execute_result"
    }
   ],
   "source": [
    "transactions"
   ]
  },
  {
   "cell_type": "code",
   "execution_count": 11,
   "id": "5d218701-8e26-44c1-9c09-bd31c5b71ac3",
   "metadata": {},
   "outputs": [
    {
     "name": "stdout",
     "output_type": "stream",
     "text": [
      "{'id': '29b16ad4-8fc0-499c-a229-9b7363d2dae9', 'onChain': {'status': 'pending', 'chain': 'solana'}}\n",
      "{'id': 'c03dcc4a-f1c8-452f-9bbe-3f76697a0ee8', 'onChain': {'status': 'pending', 'chain': 'solana'}}\n"
     ]
    }
   ],
   "source": [
    "with concurrent.futures.ThreadPoolExecutor() as executor:\n",
    "    futures = []\n",
    "    for id_operation in transactions:\n",
    "        futures.append(executor.submit(verify_nft, id_sent = id_operation['id_sent']))\n",
    "    for future in concurrent.futures.as_completed(futures):\n",
    "        print(future.result())"
   ]
  },
  {
   "cell_type": "code",
   "execution_count": null,
   "id": "a006fd9a-e069-466a-a505-965c19ddd745",
   "metadata": {},
   "outputs": [],
   "source": [
    "# falta hacer que guarde los txid en el banco en la tabla sent y que evite que de time out."
   ]
  },
  {
   "cell_type": "code",
   "execution_count": null,
   "id": "1f3b8aa5-8ad0-4a15-9fb7-06cc3def8b8a",
   "metadata": {},
   "outputs": [],
   "source": []
  },
  {
   "cell_type": "code",
   "execution_count": null,
   "id": "bdb49560-36ae-4daa-8116-edb9e85e1c0d",
   "metadata": {},
   "outputs": [],
   "source": []
  },
  {
   "cell_type": "code",
   "execution_count": null,
   "id": "fc27fff0-1ce8-4f6a-b5d3-85abd6971bf7",
   "metadata": {},
   "outputs": [],
   "source": []
  }
 ],
 "metadata": {
  "kernelspec": {
   "display_name": "Python 3 (ipykernel)",
   "language": "python",
   "name": "python3"
  },
  "language_info": {
   "codemirror_mode": {
    "name": "ipython",
    "version": 3
   },
   "file_extension": ".py",
   "mimetype": "text/x-python",
   "name": "python",
   "nbconvert_exporter": "python",
   "pygments_lexer": "ipython3",
   "version": "3.8.10"
  }
 },
 "nbformat": 4,
 "nbformat_minor": 5
}
