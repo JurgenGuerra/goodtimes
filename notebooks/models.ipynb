{
 "cells": [
  {
   "cell_type": "code",
   "execution_count": 28,
   "id": "fbb83bde-94ed-4bca-adcd-42831aae8515",
   "metadata": {},
   "outputs": [
    {
     "name": "stderr",
     "output_type": "stream",
     "text": [
      "/usr/lib/python3/dist-packages/requests/__init__.py:89: RequestsDependencyWarning: urllib3 (1.26.12) or chardet (3.0.4) doesn't match a supported version!\n",
      "  warnings.warn(\"urllib3 ({}) or chardet ({}) doesn't match a supported \"\n"
     ]
    }
   ],
   "source": [
    "from eth_account import Account\n",
    "import requests\n",
    "import json\n",
    "import random"
   ]
  },
  {
   "cell_type": "code",
   "execution_count": 29,
   "id": "b7856728-394e-4493-8372-b2c64059e196",
   "metadata": {},
   "outputs": [],
   "source": [
    "import psycopg2"
   ]
  },
  {
   "cell_type": "code",
   "execution_count": 30,
   "id": "9c7082e4-8bee-42a2-ba23-9fd448f6257d",
   "metadata": {},
   "outputs": [],
   "source": [
    "from config import config, cross, nftport, simplehash, dinary"
   ]
  },
  {
   "cell_type": "code",
   "execution_count": 5,
   "id": "14eae0d8-5fdc-41d5-908e-5bd4a7562b9b",
   "metadata": {},
   "outputs": [],
   "source": [
    "def insert_batch(name, description):\n",
    "    \"\"\"\n",
    "    Save the name and description for each collection\n",
    "    Arguments:\n",
    "        name: collection name\n",
    "        description: short description for each nft or collection\n",
    "    \"\"\"\n",
    "    sql = \"INSERT INTO batchs (name, description, images, attributes) VALUES(%s, %s, '{}', '{}') returning id_batchs;\"\n",
    "    conn = None\n",
    "    id_of_new_row = None\n",
    "    try:\n",
    "        params = config()\n",
    "        conn = psycopg2.connect(**params)\n",
    "        cur = conn.cursor()\n",
    "        cur.execute(sql, (name, description))\n",
    "        id_of_new_row = cur.fetchone()[0]\n",
    "        conn.commit()\n",
    "        cur.close()\n",
    "    except (Exception, psycopg2.DatabaseError) as error:\n",
    "        print(error)\n",
    "    finally:\n",
    "        if conn is not None:\n",
    "            conn.close()\n",
    "            \n",
    "    return id_of_new_row"
   ]
  },
  {
   "cell_type": "code",
   "execution_count": 6,
   "id": "3049ed26-e109-4d93-ab6a-1b2d4675bf90",
   "metadata": {},
   "outputs": [],
   "source": [
    "# insert_batch(name = \"Monkey\", description = \"Bananas!\")"
   ]
  },
  {
   "cell_type": "code",
   "execution_count": 7,
   "id": "45d2623b-36e4-416f-a203-dfe229e3987f",
   "metadata": {},
   "outputs": [],
   "source": [
    "def insert_emails_list(email_list):\n",
    "    data_email_list = []\n",
    "    for email in email_list:\n",
    "        acct = Account.create(email)\n",
    "        data_email_list.append((email, acct.privateKey, acct.address))\n",
    "    sql = \"INSERT INTO emails(email, walletpk, wallet) VALUES(%s, %s, %s) ON CONFLICT DO NOTHING\"\n",
    "    conn = None\n",
    "    try:\n",
    "        params = config()\n",
    "        conn = psycopg2.connect(**params)\n",
    "        cur = conn.cursor()\n",
    "        cur.executemany(sql, data_email_list)\n",
    "        conn.commit()\n",
    "        cur.close()\n",
    "    except (Exception, psycopg2.DatabaseError) as error:\n",
    "        print(error)\n",
    "    finally:\n",
    "        if conn is not None:\n",
    "            conn.close()\n",
    "    return True"
   ]
  },
  {
   "cell_type": "code",
   "execution_count": 8,
   "id": "a487f9dc-d106-434d-86d6-2923e9d0d4af",
   "metadata": {},
   "outputs": [],
   "source": [
    "# insert_emails_list(['miki@clinica.top', 'frankmosheh@gmail.com', 'mateus@clinica.top'])"
   ]
  },
  {
   "cell_type": "code",
   "execution_count": null,
   "id": "b7a653c3-6f7a-447c-b5f2-19958ba44146",
   "metadata": {},
   "outputs": [],
   "source": []
  },
  {
   "cell_type": "code",
   "execution_count": 36,
   "id": "54706f53-a44d-478f-9b47-62f1b1330992",
   "metadata": {},
   "outputs": [],
   "source": [
    "def insert_images(images, id_batchs):\n",
    "    sql = \"UPDATE batchs SET images = %s WHERE id_batchs = %s\"\n",
    "    conn = None\n",
    "    try:\n",
    "        params = config()\n",
    "        conn = psycopg2.connect(**params)\n",
    "        cur = conn.cursor()\n",
    "        cur.execute(sql, (images, id_batchs))\n",
    "        conn.commit()\n",
    "        cur.close()\n",
    "    except (Exception, psycopg2.DatabaseError) as error:\n",
    "        print(error)\n",
    "    finally:\n",
    "        if conn is not None:\n",
    "            conn.close()\n",
    "    return True"
   ]
  },
  {
   "cell_type": "code",
   "execution_count": 37,
   "id": "78519f57-29e3-4cf8-bb5c-e2e9318367d4",
   "metadata": {},
   "outputs": [
    {
     "data": {
      "text/plain": [
       "True"
      ]
     },
     "execution_count": 37,
     "metadata": {},
     "output_type": "execute_result"
    }
   ],
   "source": [
    "# id_batchs = 6\n",
    "# images = json.dumps({\"images\":[\"hole.com\",\"msn.com\"]})\n",
    "# insert_images(images, id_batchs)"
   ]
  },
  {
   "cell_type": "code",
   "execution_count": null,
   "id": "04da2e95-6434-4bb3-bed3-9ab17f2ad69f",
   "metadata": {},
   "outputs": [],
   "source": []
  },
  {
   "cell_type": "code",
   "execution_count": null,
   "id": "2254ae16-b08b-45a2-bdec-60bc9dfedc34",
   "metadata": {},
   "outputs": [],
   "source": [
    "def insert_sent_list(sent_list):\n",
    "    sql = \"INSERT INTO sent(id_batchs, email) VALUES(%s, %s) ON CONFLICT DO NOTHING\"\n",
    "    conn = None\n",
    "    try:\n",
    "        params = config()\n",
    "        conn = psycopg2.connect(**params)\n",
    "        cur = conn.cursor()\n",
    "        cur.executemany(sql, sent_list)\n",
    "        conn.commit()\n",
    "        cur.close()\n",
    "    except (Exception, psycopg2.DatabaseError) as error:\n",
    "        print(error)\n",
    "    finally:\n",
    "        if conn is not None:\n",
    "            conn.close()\n",
    "    return True"
   ]
  },
  {
   "cell_type": "code",
   "execution_count": null,
   "id": "4f493aa7-de31-432a-b0f0-a9ec08d9e5bd",
   "metadata": {},
   "outputs": [],
   "source": []
  },
  {
   "cell_type": "code",
   "execution_count": 53,
   "id": "595f12db-d776-4925-a0ae-f4138b0f11d1",
   "metadata": {},
   "outputs": [],
   "source": [
    "def update_sent_list(sent_list):\n",
    "    sql = \"UPDATE sent SET tx_hash = %s WHERE id_batchs = %s AND email = %s\"\n",
    "    conn = None\n",
    "    try:\n",
    "        params = config()\n",
    "        conn = psycopg2.connect(**params)\n",
    "        cur = conn.cursor()\n",
    "        cur.executemany(sql, sent_list)\n",
    "        conn.commit()\n",
    "        cur.close()\n",
    "    except (Exception, psycopg2.DatabaseError) as error:\n",
    "        print(error)\n",
    "    finally:\n",
    "        if conn is not None:\n",
    "            conn.close()\n",
    "    return True"
   ]
  },
  {
   "cell_type": "code",
   "execution_count": 10,
   "id": "7c9009c2-1c89-4eaf-8a5e-5dcc845cf893",
   "metadata": {},
   "outputs": [],
   "source": [
    "# update_sent_list([\n",
    "#     ('hash','miki@clinica.top','3'),\n",
    "#     ('hash','frankmosheh@gmail.com','3'),\n",
    "#     ('hash','mateus@clinica.top','3'),\n",
    "# ])"
   ]
  },
  {
   "cell_type": "code",
   "execution_count": null,
   "id": "d9c4ef9f-d2c5-402c-9b00-367c0831a85a",
   "metadata": {},
   "outputs": [],
   "source": []
  },
  {
   "cell_type": "code",
   "execution_count": 62,
   "id": "9ddb4e0a-ace4-45da-b7e2-58e81bc05967",
   "metadata": {},
   "outputs": [],
   "source": [
    "def get_emails_to_send(id_batchs):\n",
    "    \"\"\"\n",
    "    A dataframe from aggregated_investments table in order to save a snapshot\n",
    "    Returns:\n",
    "        snapshot: a dataframe with all the relevan fields to save\n",
    "    \"\"\"\n",
    "    sql = \"SELECT emails.email, emails.wallet FROM sent, emails WHERE sent.id_batchs = %s AND sent.email = emails.email AND sent.tx_hash IS NULL\"\n",
    "    conn = None\n",
    "    data = []\n",
    "    try:\n",
    "        params = config()\n",
    "        conn = psycopg2.connect(**params)\n",
    "        cur = conn.cursor()\n",
    "        cur.execute(sql, (id_batchs,))\n",
    "        email_users = cur.fetchall()\n",
    "        for row in email_users:\n",
    "            data.append({'email': row[0], 'wallet': row[1]})\n",
    "    except (Exception, psycopg2.DatabaseError) as error:\n",
    "        print(error)\n",
    "    finally:\n",
    "        if conn is not None:\n",
    "            conn.close()\n",
    "    \n",
    "    return data"
   ]
  },
  {
   "cell_type": "code",
   "execution_count": 63,
   "id": "077733d6-1b6b-4c9d-9260-b0cb1830b831",
   "metadata": {},
   "outputs": [],
   "source": [
    "# get_emails_to_send(id_batchs = 8)"
   ]
  },
  {
   "cell_type": "code",
   "execution_count": null,
   "id": "9fae87f3-3fce-41af-b917-02a8dfa3959b",
   "metadata": {},
   "outputs": [],
   "source": []
  },
  {
   "cell_type": "code",
   "execution_count": 64,
   "id": "78f30e06-f81a-440b-8aca-8bc902ee271b",
   "metadata": {},
   "outputs": [],
   "source": [
    "def get_batch_metadata(id_batchs):\n",
    "    \"\"\"\n",
    "    A dataframe from aggregated_investments table in order to save a snapshot\n",
    "    Returns:\n",
    "        snapshot: a dataframe with all the relevan fields to save\n",
    "    \"\"\"\n",
    "    sql = \"SELECT name, description, images FROM batchs WHERE id_batchs = %s\"\n",
    "    conn = None\n",
    "    data = []\n",
    "    try:\n",
    "        params = config()\n",
    "        conn = psycopg2.connect(**params)\n",
    "        cur = conn.cursor()\n",
    "        cur.execute(sql, (id_batchs,))\n",
    "        batch_data = cur.fetchone()\n",
    "        data = {'name': batch_data[0], 'description': batch_data[1], 'images': batch_data[2]}\n",
    "    except (Exception, psycopg2.DatabaseError) as error:\n",
    "        print(error)\n",
    "    finally:\n",
    "        if conn is not None:\n",
    "            conn.close()\n",
    "    \n",
    "    return data"
   ]
  },
  {
   "cell_type": "code",
   "execution_count": 65,
   "id": "7de9964f-75ac-4360-80c7-728d2358ef88",
   "metadata": {},
   "outputs": [],
   "source": [
    "# get_batch_metadata(id_batchs = 3)"
   ]
  },
  {
   "cell_type": "code",
   "execution_count": null,
   "id": "67e3533c-eedc-43e3-959b-54c1ce9ec4f6",
   "metadata": {},
   "outputs": [],
   "source": []
  },
  {
   "cell_type": "code",
   "execution_count": 77,
   "id": "2fd8457e-beb8-41d9-a990-1d989c695524",
   "metadata": {},
   "outputs": [],
   "source": [
    "def send_nft(address, name, description, image_url):\n",
    "    nftport_params = nftport()\n",
    "    headers={\"Authorization\": nftport_params['nftport_secret'], \"Content-Type\": \"application/json\"}\n",
    "    payload = {\n",
    "        \"chain\": \"polygon\",\n",
    "        \"name\": name,\n",
    "        \"description\": description,\n",
    "        \"file_url\": image_url,\n",
    "        \"mint_to_address\": address\n",
    "    }\n",
    "    response = requests.post('https://api.nftport.xyz/v0/mints/easy/urls', json=payload, headers=headers)\n",
    "    return response.json()"
   ]
  },
  {
   "cell_type": "code",
   "execution_count": 78,
   "id": "cc4830b6-e6d5-4aa1-b634-9bfcb4fc9452",
   "metadata": {},
   "outputs": [],
   "source": [
    "def send_batch_nfts(id_batchs):\n",
    "    emails_data = get_emails_to_send(id_batchs = id_batchs)\n",
    "    batch_data = get_batch_metadata(id_batchs = id_batchs)\n",
    "    sent_data = []\n",
    "    for user in emails_data:\n",
    "        metadata = {\n",
    "            'name': batch_data['name'],\n",
    "            'image': random.choice(batch_data['images']['images']),\n",
    "            'description': batch_data['description'],\n",
    "        }\n",
    "        response = send_nft(address=user['wallet'], name=batch_data['name'], description=batch_data['description'], image_url=random.choice(batch_data['images']['images']))\n",
    "        sent_data.append((response, user['email'], id_batchs))\n",
    "    return sent_data"
   ]
  },
  {
   "cell_type": "code",
   "execution_count": 79,
   "id": "68222c64-fbaf-4b06-ac65-005ffb7f4827",
   "metadata": {},
   "outputs": [],
   "source": [
    "def deploy_nfts(id_batchs):\n",
    "    sent_data = send_batch_nfts(id_batchs)\n",
    "    if len(sent_data) > 0:\n",
    "        filtered_sent_data = [(x[0]['transaction_hash'], x[2], x[1]) for x in sent_data]\n",
    "        update_sent_list(sent_list = filtered_sent_data)"
   ]
  },
  {
   "cell_type": "code",
   "execution_count": 80,
   "id": "7e124091-1ae7-478f-aaa4-66edca5a00e5",
   "metadata": {},
   "outputs": [],
   "source": [
    "# deploy_nfts(id_batchs = 8)"
   ]
  },
  {
   "cell_type": "code",
   "execution_count": null,
   "id": "d8526453-2f4f-4866-a6bb-0b246fb3fb40",
   "metadata": {},
   "outputs": [],
   "source": []
  },
  {
   "cell_type": "code",
   "execution_count": 75,
   "id": "c21bd4c5-bee5-4a8b-8485-5f2330dffc57",
   "metadata": {},
   "outputs": [],
   "source": [
    "def get_emails_and_txhash(id_batchs):\n",
    "    \"\"\"\n",
    "    A dataframe from aggregated_investments table in order to save a snapshot\n",
    "    Returns:\n",
    "        snapshot: a dataframe with all the relevan fields to save\n",
    "    \"\"\"\n",
    "    sql = \"SELECT emails.email, emails.wallet, sent.tx_hash FROM sent, emails WHERE sent.id_batchs = %s AND sent.email = emails.email AND sent.tx_hash IS NOT NULL\"\n",
    "    conn = None\n",
    "    data = []\n",
    "    try:\n",
    "        params = config()\n",
    "        conn = psycopg2.connect(**params)\n",
    "        cur = conn.cursor()\n",
    "        cur.execute(sql, (id_batchs,))\n",
    "        email_users = cur.fetchall()\n",
    "        for row in email_users:\n",
    "            data.append({'email': row[0], 'wallet': row[1], 'txid': row[2]})\n",
    "    except (Exception, psycopg2.DatabaseError) as error:\n",
    "        print(error)\n",
    "    finally:\n",
    "        if conn is not None:\n",
    "            conn.close()\n",
    "    \n",
    "    return data"
   ]
  },
  {
   "cell_type": "code",
   "execution_count": 76,
   "id": "d3921574-d500-4a41-b79b-2a3c85ae5c1e",
   "metadata": {},
   "outputs": [
    {
     "data": {
      "text/plain": [
       "[{'email': 'maria@clinica.top',\n",
       "  'wallet': '0xD1fE4BeE31e2ca8aFD5DED4cacf5F851786f8FB0',\n",
       "  'txid': '0xa1622f17c509513a69a68db473877081d4b92ed24f87bf1988f214dbc2d2bce5'},\n",
       " {'email': 'frank@clinica.top',\n",
       "  'wallet': '0x5728335CFfD8fa47B448E3254Ea45EBF4d9a72C7',\n",
       "  'txid': '0xb3a23f33da51751b67109b2f9eb06d6f9e9ddbe4fd9fe2a968a6060be8647807'}]"
      ]
     },
     "execution_count": 76,
     "metadata": {},
     "output_type": "execute_result"
    }
   ],
   "source": [
    "get_emails_and_txhash(id_batchs = 8)"
   ]
  },
  {
   "cell_type": "markdown",
   "id": "ec8b87b5-df60-4975-973f-293a7183535f",
   "metadata": {},
   "source": [
    "---"
   ]
  },
  {
   "cell_type": "code",
   "execution_count": 87,
   "id": "bed50801-d44a-4c25-a13b-f3deeca25e30",
   "metadata": {},
   "outputs": [],
   "source": [
    "def get_wallet_by_email(email):\n",
    "    \"\"\"\n",
    "    A dataframe from aggregated_investments table in order to save a snapshot\n",
    "    Returns:\n",
    "        snapshot: a dataframe with all the relevan fields to save\n",
    "    \"\"\"\n",
    "    sql = \"SELECT emails.wallet FROM emails WHERE emails.email = %s\"\n",
    "    conn = None\n",
    "    email_users = None\n",
    "    try:\n",
    "        params = config()\n",
    "        conn = psycopg2.connect(**params)\n",
    "        cur = conn.cursor()\n",
    "        cur.execute(sql, (email,))\n",
    "        email_users = cur.fetchone()[0]\n",
    "    except (Exception, psycopg2.DatabaseError) as error:\n",
    "        print(error)\n",
    "    finally:\n",
    "        if conn is not None:\n",
    "            conn.close()\n",
    "    \n",
    "    return email_users"
   ]
  },
  {
   "cell_type": "code",
   "execution_count": 88,
   "id": "111fa051-1b0d-42c5-ab06-a97eeae52ecb",
   "metadata": {},
   "outputs": [],
   "source": [
    "def get_nfts_by_wallet(wallet):\n",
    "    simplehash_params = simplehash()\n",
    "    url = \"https://api.simplehash.com/api/v0/nfts/owners?chains=polygon&wallet_addresses=\" + wallet\n",
    "    headers = {\n",
    "        \"accept\": \"application/json\",\n",
    "        \"X-API-KEY\": simplehash_params['simplehash_secret']\n",
    "    }\n",
    "\n",
    "    response = requests.get(url, headers=headers)\n",
    "    return (wallet, response.json()['nfts'])"
   ]
  },
  {
   "cell_type": "code",
   "execution_count": 91,
   "id": "8cb20b3c-8532-4a6c-8c43-9a167d317d77",
   "metadata": {},
   "outputs": [],
   "source": [
    "def get_nfts(email):\n",
    "    data_wallet = get_wallet_by_email(email)\n",
    "    if data_wallet:\n",
    "        data = get_nfts_by_wallet(wallet = data_wallet)\n",
    "        return data\n",
    "    else:\n",
    "        return None, None"
   ]
  },
  {
   "cell_type": "code",
   "execution_count": 94,
   "id": "41697d1f-b682-4dad-b96d-c3a770534ecc",
   "metadata": {
    "tags": []
   },
   "outputs": [
    {
     "data": {
      "text/plain": [
       "('0x54707B62701620c8401DCBDCD2e579Ea0231cD8D',\n",
       " [{'nft_id': 'polygon.0x55a8dbe6f191b370885d01e30cb7d36d0fa99f16.6287',\n",
       "   'chain': 'polygon',\n",
       "   'contract_address': '0x55A8DBe6F191B370885D01E30CB7D36d0fA99F16',\n",
       "   'token_id': '6287',\n",
       "   'name': 'BBVA 2022',\n",
       "   'description': 'La mejor hackathon!',\n",
       "   'image_url': 'https://cdn.simplehash.com/assets/1a21ff6a67a812c0bce96949d6dcd3ecf8c597ef085ce8759296a4d1577330f6.png',\n",
       "   'video_url': None,\n",
       "   'audio_url': None,\n",
       "   'model_url': None,\n",
       "   'previews': {'image_small_url': 'https://lh3.googleusercontent.com/4RanB1j38xsWQwLVAvrSP8d0RFLWXueYm9cqEJ5i_-kT7w_-cMyd5gC2KgrDOaenHlz9JQA-CUXry9TaEL70sEjAZlvBfexv8yQ5=s250',\n",
       "    'image_medium_url': 'https://lh3.googleusercontent.com/4RanB1j38xsWQwLVAvrSP8d0RFLWXueYm9cqEJ5i_-kT7w_-cMyd5gC2KgrDOaenHlz9JQA-CUXry9TaEL70sEjAZlvBfexv8yQ5',\n",
       "    'image_large_url': 'https://lh3.googleusercontent.com/4RanB1j38xsWQwLVAvrSP8d0RFLWXueYm9cqEJ5i_-kT7w_-cMyd5gC2KgrDOaenHlz9JQA-CUXry9TaEL70sEjAZlvBfexv8yQ5=s1000',\n",
       "    'image_opengraph_url': 'https://lh3.googleusercontent.com/4RanB1j38xsWQwLVAvrSP8d0RFLWXueYm9cqEJ5i_-kT7w_-cMyd5gC2KgrDOaenHlz9JQA-CUXry9TaEL70sEjAZlvBfexv8yQ5=k-w1200-s2400-rj',\n",
       "    'blurhash': 'UuIfQ?jcRca#-sbENDa#W?oLoZa#R*k8xZa#'},\n",
       "   'background_color': None,\n",
       "   'external_url': None,\n",
       "   'created_date': '2022-10-23T06:02:56',\n",
       "   'status': 'minted',\n",
       "   'token_count': 1,\n",
       "   'owner_count': 1,\n",
       "   'owners': [{'owner_address': '0x54707B62701620c8401DCBDCD2e579Ea0231cD8D',\n",
       "     'quantity': 1,\n",
       "     'first_acquired_date': '2022-10-23T06:02:56',\n",
       "     'last_acquired_date': '2022-10-23T06:02:56'}],\n",
       "   'last_sale': None,\n",
       "   'contract': {'type': 'ERC721', 'name': 'NFTPort.xyz v4', 'symbol': 'NFTP'},\n",
       "   'collection': {'collection_id': '5d219549a9185d9c9e2e82736f1f8f20',\n",
       "    'name': 'NFTPort.xyz v4',\n",
       "    'description': None,\n",
       "    'image_url': 'https://lh3.googleusercontent.com/2rdsG9WOKozF6kBYPWvrq3EbfSraUD8JTpvWD6f3lhntY0nxesax1cq9zmDor5OpfSv50DKEMekpZ3MIuKPbgqzjPuE4QljHLMGT',\n",
       "    'banner_image_url': None,\n",
       "    'external_url': None,\n",
       "    'twitter_username': None,\n",
       "    'discord_url': None,\n",
       "    'marketplace_pages': [{'marketplace_id': 'opensea',\n",
       "      'marketplace_name': 'OpenSea',\n",
       "      'marketplace_collection_id': 'nftport-xyz-v4',\n",
       "      'nft_url': 'https://opensea.io/assets/matic/0x55a8dbe6f191b370885d01e30cb7d36d0fa99f16/6287',\n",
       "      'collection_url': 'https://opensea.io/collection/nftport-xyz-v4',\n",
       "      'verified': False}],\n",
       "    'metaplex_mint': None,\n",
       "    'metaplex_first_verified_creator': None,\n",
       "    'floor_prices': []},\n",
       "   'extra_metadata': {'image_original_url': 'https://ipfs.io/ipfs/bafybeigtzk3utq5364uyfdpcp3ywot6czocysmijikttcaqxm4wk3fnauu',\n",
       "    'animation_original_url': None}}])"
      ]
     },
     "execution_count": 94,
     "metadata": {},
     "output_type": "execute_result"
    }
   ],
   "source": [
    "get_nfts(email = \"frankmosheh@gmail.com\")"
   ]
  },
  {
   "cell_type": "code",
   "execution_count": 5,
   "id": "eaaeeda2-6d89-4d9b-9788-0dbdfde6bb5e",
   "metadata": {},
   "outputs": [],
   "source": []
  },
  {
   "cell_type": "markdown",
   "id": "afff0d8a-776c-490f-a35f-521c711865a9",
   "metadata": {},
   "source": [
    "---"
   ]
  },
  {
   "cell_type": "code",
   "execution_count": 1,
   "id": "95e81ba0-2b58-40c6-aa2f-805b063d6c33",
   "metadata": {},
   "outputs": [],
   "source": [
    "import cloudinary\n",
    "import cloudinary.uploader\n",
    "import cloudinary.api"
   ]
  },
  {
   "cell_type": "code",
   "execution_count": 19,
   "id": "bc3c5ada-0af3-44ed-8f94-9d2e44ed5b8e",
   "metadata": {},
   "outputs": [],
   "source": [
    "import json"
   ]
  },
  {
   "cell_type": "code",
   "execution_count": 10,
   "id": "a723096e-7095-427e-830d-ddf3cbfa8a5c",
   "metadata": {},
   "outputs": [],
   "source": [
    "cloudinary_config = cloudinary.config(cloud_name='climatempo', api_secret='WwH6HWQ0ALwhlrphu4zD9RRQ37I', api_key='689443847436934')"
   ]
  },
  {
   "cell_type": "code",
   "execution_count": 12,
   "id": "2d96de36-f86a-4584-b931-5befde98950a",
   "metadata": {},
   "outputs": [
    {
     "name": "stdout",
     "output_type": "stream",
     "text": [
      "****1. Set up and configure the SDK:****\n",
      "Credentials:  climatempo WwH6HWQ0ALwhlrphu4zD9RRQ37I \n",
      "\n"
     ]
    }
   ],
   "source": []
  },
  {
   "cell_type": "code",
   "execution_count": 13,
   "id": "b2144f60-b1a3-44f2-8504-3a6a6d28b703",
   "metadata": {},
   "outputs": [],
   "source": [
    "def uploadImage():\n",
    "    cloudinary.uploader.upload(\"bbva.jpg\", public_id=\"bbva2022\")\n",
    "    srcURL = cloudinary.CloudinaryImage(\"bbva2022\").build_url()\n",
    "    print(\"****2. Upload an image****\\nDelivery URL: \", srcURL, \"\\n\")"
   ]
  },
  {
   "cell_type": "code",
   "execution_count": 23,
   "id": "ece8d2e6-f45e-4a55-938e-602c5b102387",
   "metadata": {},
   "outputs": [
    {
     "name": "stdout",
     "output_type": "stream",
     "text": [
      "****2. Upload an image****\n",
      "Delivery URL:  https://res.cloudinary.com/climatempo/image/upload/bbva2022 \n",
      "\n"
     ]
    }
   ],
   "source": [
    "uploadImage()"
   ]
  },
  {
   "cell_type": "code",
   "execution_count": null,
   "id": "70cb9028-8713-4b68-a713-41e86c947946",
   "metadata": {},
   "outputs": [],
   "source": []
  },
  {
   "cell_type": "code",
   "execution_count": null,
   "id": "adf9d758-0adb-4aaa-ab57-973642548f01",
   "metadata": {},
   "outputs": [],
   "source": []
  },
  {
   "cell_type": "code",
   "execution_count": 44,
   "id": "44cc9aba-62f1-45de-aac1-6f8c90a8f13d",
   "metadata": {},
   "outputs": [],
   "source": [
    "import uuid"
   ]
  },
  {
   "cell_type": "code",
   "execution_count": 45,
   "id": "9021b054-b857-4849-9a5b-3c05bce88c66",
   "metadata": {},
   "outputs": [
    {
     "data": {
      "text/plain": [
       "'1664b646-423e-47cc-a0ed-243bb520f80b'"
      ]
     },
     "execution_count": 45,
     "metadata": {},
     "output_type": "execute_result"
    }
   ],
   "source": [
    "str(uuid.uuid4())"
   ]
  },
  {
   "cell_type": "code",
   "execution_count": null,
   "id": "cc52d3a2-9017-49bd-a537-a22f043c9723",
   "metadata": {},
   "outputs": [],
   "source": []
  },
  {
   "cell_type": "code",
   "execution_count": null,
   "id": "4cc98d2b-03bb-48d8-9d19-ae052ee325fa",
   "metadata": {},
   "outputs": [],
   "source": []
  },
  {
   "cell_type": "code",
   "execution_count": null,
   "id": "6250711b-b002-4afe-834e-54a8aca5dc46",
   "metadata": {},
   "outputs": [],
   "source": []
  },
  {
   "cell_type": "code",
   "execution_count": null,
   "id": "4bb0d5d6-5c17-42d7-8717-72487465c643",
   "metadata": {},
   "outputs": [],
   "source": []
  },
  {
   "cell_type": "code",
   "execution_count": null,
   "id": "f28a25ed-a5d2-4bd9-ad19-53bbeca13b93",
   "metadata": {},
   "outputs": [],
   "source": []
  },
  {
   "cell_type": "code",
   "execution_count": null,
   "id": "f27c2283-18e0-4fd7-bf15-8578b8b4e0fa",
   "metadata": {},
   "outputs": [],
   "source": []
  }
 ],
 "metadata": {
  "kernelspec": {
   "display_name": "Python 3 (ipykernel)",
   "language": "python",
   "name": "python3"
  },
  "language_info": {
   "codemirror_mode": {
    "name": "ipython",
    "version": 3
   },
   "file_extension": ".py",
   "mimetype": "text/x-python",
   "name": "python",
   "nbconvert_exporter": "python",
   "pygments_lexer": "ipython3",
   "version": "3.8.10"
  }
 },
 "nbformat": 4,
 "nbformat_minor": 5
}
