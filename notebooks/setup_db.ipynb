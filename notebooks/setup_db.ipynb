{
 "cells": [
  {
   "cell_type": "code",
   "execution_count": 1,
   "id": "34fde313-d7cb-4447-a615-24b85094e92c",
   "metadata": {},
   "outputs": [],
   "source": [
    "import requests\n",
    "import json"
   ]
  },
  {
   "cell_type": "code",
   "execution_count": 2,
   "id": "e6d91de7-76c8-4db7-baea-fecb189b8e1b",
   "metadata": {},
   "outputs": [],
   "source": [
    "import psycopg2"
   ]
  },
  {
   "cell_type": "code",
   "execution_count": 3,
   "id": "59eca017-a0b4-4444-ac04-c5843cf80b69",
   "metadata": {},
   "outputs": [],
   "source": [
    "from config import config"
   ]
  },
  {
   "cell_type": "code",
   "execution_count": 4,
   "id": "a31c1301-02e0-4357-9859-97c58e345c9d",
   "metadata": {},
   "outputs": [],
   "source": [
    "def create_table_batch():\n",
    "    sql = \"\"\"CREATE TABLE IF NOT EXISTS \"batchs\"(\n",
    "    \"id_batchs\" SERIAL PRIMARY KEY,\n",
    "    \"name\" TEXT NOT NULL,\n",
    "    \"description\" TEXT NOT NULL,\n",
    "    \"images\" JSON NOT NULL,\n",
    "    \"attributes\" JSON NOT NULL)\n",
    "    \"\"\"\n",
    "    conn = None\n",
    "    try:\n",
    "        params = config()\n",
    "        conn = psycopg2.connect(**params)\n",
    "        cur = conn.cursor()\n",
    "        cur.execute(sql)\n",
    "        conn.commit()\n",
    "        cur.close()\n",
    "    except (Exception, psycopg2.DatabaseError) as error:\n",
    "        print(error)\n",
    "    finally:\n",
    "        if conn is not None:\n",
    "            conn.close()"
   ]
  },
  {
   "cell_type": "code",
   "execution_count": 5,
   "id": "c19f66fa-b0f1-47fc-8f0e-6cf694b4e2b8",
   "metadata": {},
   "outputs": [],
   "source": [
    "def create_table_emails():\n",
    "    sql = \"\"\"CREATE TABLE IF NOT EXISTS \"emails\"(\n",
    "    \"email\" TEXT PRIMARY KEY,\n",
    "    \"walletpk\" VARCHAR(255) NOT NULL,\n",
    "    \"wallet\" VARCHAR(255) NOT NULL)\n",
    "    \"\"\"\n",
    "    conn = None\n",
    "    try:\n",
    "        params = config()\n",
    "        conn = psycopg2.connect(**params)\n",
    "        cur = conn.cursor()\n",
    "        cur.execute(sql)\n",
    "        conn.commit()\n",
    "        cur.close()\n",
    "    except (Exception, psycopg2.DatabaseError) as error:\n",
    "        print(error)\n",
    "    finally:\n",
    "        if conn is not None:\n",
    "            conn.close()"
   ]
  },
  {
   "cell_type": "code",
   "execution_count": 6,
   "id": "ab8ad76b-8b0b-4c47-9989-037a06da1e53",
   "metadata": {},
   "outputs": [],
   "source": [
    "def create_table_sent():\n",
    "    sql = \"\"\"CREATE TABLE IF NOT EXISTS \"sent\"(\n",
    "    \"email\" TEXT NOT NULL,\n",
    "    \"id_batchs\" INTEGER NOT NULL,\n",
    "    \"tx_hash\" VARCHAR(255) NULL)\n",
    "    \"\"\"\n",
    "    conn = None\n",
    "    try:\n",
    "        params = config()\n",
    "        conn = psycopg2.connect(**params)\n",
    "        cur = conn.cursor()\n",
    "        cur.execute(sql)\n",
    "        conn.commit()\n",
    "        cur.close()\n",
    "    except (Exception, psycopg2.DatabaseError) as error:\n",
    "        print(error)\n",
    "    finally:\n",
    "        if conn is not None:\n",
    "            conn.close()"
   ]
  },
  {
   "cell_type": "code",
   "execution_count": 7,
   "id": "09640f83-2473-494b-9d8d-be4eaba1dece",
   "metadata": {},
   "outputs": [],
   "source": [
    "def add_foreign_keys():\n",
    "    sql = \"\"\"ALTER TABLE\n",
    "    \"sent\" ADD CONSTRAINT \"sent_destination_foreign\" FOREIGN KEY(\"email\") REFERENCES \"emails\"(\"email\");\n",
    "ALTER TABLE\n",
    "    \"sent\" ADD CONSTRAINT \"sent_batch_foreign\" FOREIGN KEY(\"id_batchs\") REFERENCES \"batchs\"(\"id_batchs\");\n",
    "    \"\"\"\n",
    "    conn = None\n",
    "    try:\n",
    "        params = config()\n",
    "        conn = psycopg2.connect(**params)\n",
    "        cur = conn.cursor()\n",
    "        cur.execute(sql)\n",
    "        conn.commit()\n",
    "        cur.close()\n",
    "    except (Exception, psycopg2.DatabaseError) as error:\n",
    "        print(error)\n",
    "    finally:\n",
    "        if conn is not None:\n",
    "            conn.close()"
   ]
  },
  {
   "cell_type": "code",
   "execution_count": 9,
   "id": "a3b50548-fce5-47cc-92b9-87d722828d93",
   "metadata": {},
   "outputs": [],
   "source": [
    "create_table_batch()"
   ]
  },
  {
   "cell_type": "code",
   "execution_count": 8,
   "id": "026dc4e8-ebca-4bd8-805a-39ef4372af30",
   "metadata": {},
   "outputs": [],
   "source": [
    "create_table_emails()"
   ]
  },
  {
   "cell_type": "code",
   "execution_count": 9,
   "id": "e7939ac0-7e51-4f35-b20f-17aeb05763ba",
   "metadata": {},
   "outputs": [],
   "source": [
    "create_table_sent()"
   ]
  },
  {
   "cell_type": "code",
   "execution_count": 10,
   "id": "db5d3093-c0b8-4f3f-bf3e-4a4e305f8699",
   "metadata": {},
   "outputs": [],
   "source": [
    "add_foreign_keys()"
   ]
  },
  {
   "cell_type": "code",
   "execution_count": 11,
   "id": "a91f2c4d-ce1e-42d6-8fa7-03a6733da289",
   "metadata": {},
   "outputs": [
    {
     "name": "stdout",
     "output_type": "stream",
     "text": [
      "[jupytext] Reading setup_db.ipynb in format ipynb\n",
      "[jupytext] Writing setup_db.py (destination file replaced)\n"
     ]
    }
   ],
   "source": [
    "! jupytext --to py setup_db.ipynb"
   ]
  },
  {
   "cell_type": "code",
   "execution_count": null,
   "id": "bc329a5f-fd09-422b-91f5-0c64a125f139",
   "metadata": {},
   "outputs": [],
   "source": []
  }
 ],
 "metadata": {
  "kernelspec": {
   "display_name": "Python 3 (ipykernel)",
   "language": "python",
   "name": "python3"
  },
  "language_info": {
   "codemirror_mode": {
    "name": "ipython",
    "version": 3
   },
   "file_extension": ".py",
   "mimetype": "text/x-python",
   "name": "python",
   "nbconvert_exporter": "python",
   "pygments_lexer": "ipython3",
   "version": "3.8.10"
  }
 },
 "nbformat": 4,
 "nbformat_minor": 5
}
